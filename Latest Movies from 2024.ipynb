{
 "cells": [
  {
   "cell_type": "markdown",
   "id": "d25cc9f3",
   "metadata": {},
   "source": [
    "# Building a Movie Recommendation System"
   ]
  },
  {
   "cell_type": "markdown",
   "id": "c52719d7",
   "metadata": {},
   "source": [
    "## Importing The Necessary Libraries"
   ]
  },
  {
   "cell_type": "code",
   "execution_count": 1,
   "id": "4471c1e0",
   "metadata": {},
   "outputs": [],
   "source": [
    "import numpy as np\n",
    "import pandas as pd\n",
    "import seaborn as sns\n",
    "import matplotlib.pyplot as plt\n",
    "from warnings import filterwarnings\n",
    "filterwarnings('ignore')"
   ]
  },
  {
   "cell_type": "markdown",
   "id": "b56d8fad",
   "metadata": {},
   "source": [
    "# Loading The Dataset"
   ]
  },
  {
   "cell_type": "code",
   "execution_count": 27,
   "id": "f35e7de6",
   "metadata": {},
   "outputs": [],
   "source": [
    "movies = pd.read_csv('latest_movies_2024.csv', parse_dates=['release_date'])"
   ]
  },
  {
   "cell_type": "code",
   "execution_count": 28,
   "id": "e9b6e64a",
   "metadata": {},
   "outputs": [
    {
     "data": {
      "text/plain": [
       "(4704, 11)"
      ]
     },
     "execution_count": 28,
     "metadata": {},
     "output_type": "execute_result"
    }
   ],
   "source": [
    "movies.shape"
   ]
  },
  {
   "cell_type": "code",
   "execution_count": 29,
   "id": "cc0b25dc",
   "metadata": {},
   "outputs": [
    {
     "name": "stdout",
     "output_type": "stream",
     "text": [
      "<class 'pandas.core.frame.DataFrame'>\n",
      "RangeIndex: 4704 entries, 0 to 4703\n",
      "Data columns (total 11 columns):\n",
      " #   Column        Non-Null Count  Dtype  \n",
      "---  ------        --------------  -----  \n",
      " 0   Unnamed: 0    4704 non-null   object \n",
      " 1   id            4697 non-null   object \n",
      " 2   title         4697 non-null   object \n",
      " 3   overview      3873 non-null   object \n",
      " 4   release_date  4664 non-null   object \n",
      " 5   popularity    4687 non-null   object \n",
      " 6   vote_average  4687 non-null   object \n",
      " 7   vote_count    4687 non-null   object \n",
      " 8   Unnamed: 8    11 non-null     float64\n",
      " 9   Unnamed: 9    1 non-null      float64\n",
      " 10  Unnamed: 10   1 non-null      float64\n",
      "dtypes: float64(3), object(8)\n",
      "memory usage: 404.4+ KB\n"
     ]
    }
   ],
   "source": [
    "movies.info()"
   ]
  },
  {
   "cell_type": "code",
   "execution_count": 30,
   "id": "7a4b1657",
   "metadata": {},
   "outputs": [
    {
     "data": {
      "text/html": [
       "<div>\n",
       "<style scoped>\n",
       "    .dataframe tbody tr th:only-of-type {\n",
       "        vertical-align: middle;\n",
       "    }\n",
       "\n",
       "    .dataframe tbody tr th {\n",
       "        vertical-align: top;\n",
       "    }\n",
       "\n",
       "    .dataframe thead th {\n",
       "        text-align: right;\n",
       "    }\n",
       "</style>\n",
       "<table border=\"1\" class=\"dataframe\">\n",
       "  <thead>\n",
       "    <tr style=\"text-align: right;\">\n",
       "      <th></th>\n",
       "      <th>Unnamed: 0</th>\n",
       "      <th>id</th>\n",
       "      <th>title</th>\n",
       "      <th>overview</th>\n",
       "      <th>release_date</th>\n",
       "      <th>popularity</th>\n",
       "      <th>vote_average</th>\n",
       "      <th>vote_count</th>\n",
       "      <th>Unnamed: 8</th>\n",
       "      <th>Unnamed: 9</th>\n",
       "      <th>Unnamed: 10</th>\n",
       "    </tr>\n",
       "  </thead>\n",
       "  <tbody>\n",
       "    <tr>\n",
       "      <th>0</th>\n",
       "      <td>0</td>\n",
       "      <td>957452</td>\n",
       "      <td>The Crow</td>\n",
       "      <td>Soulmates Eric and Shelly are brutally murdere...</td>\n",
       "      <td>2024-08-21</td>\n",
       "      <td>4065.642</td>\n",
       "      <td>5.314</td>\n",
       "      <td>287</td>\n",
       "      <td>NaN</td>\n",
       "      <td>NaN</td>\n",
       "      <td>NaN</td>\n",
       "    </tr>\n",
       "    <tr>\n",
       "      <th>1</th>\n",
       "      <td>1</td>\n",
       "      <td>519182</td>\n",
       "      <td>Despicable Me 4</td>\n",
       "      <td>Gru and Lucy and their girls—Margo, Edith and ...</td>\n",
       "      <td>2024-06-20</td>\n",
       "      <td>1743.127</td>\n",
       "      <td>7.169</td>\n",
       "      <td>1670</td>\n",
       "      <td>NaN</td>\n",
       "      <td>NaN</td>\n",
       "      <td>NaN</td>\n",
       "    </tr>\n",
       "    <tr>\n",
       "      <th>2</th>\n",
       "      <td>2</td>\n",
       "      <td>365177</td>\n",
       "      <td>Borderlands</td>\n",
       "      <td>Returning to her home planet, an infamous boun...</td>\n",
       "      <td>2024-08-07</td>\n",
       "      <td>1689.252</td>\n",
       "      <td>5.898</td>\n",
       "      <td>566</td>\n",
       "      <td>NaN</td>\n",
       "      <td>NaN</td>\n",
       "      <td>NaN</td>\n",
       "    </tr>\n",
       "    <tr>\n",
       "      <th>3</th>\n",
       "      <td>3</td>\n",
       "      <td>917496</td>\n",
       "      <td>Beetlejuice Beetlejuice</td>\n",
       "      <td>After a family tragedy, three generations of t...</td>\n",
       "      <td>2024-09-04</td>\n",
       "      <td>1434.179</td>\n",
       "      <td>7.122</td>\n",
       "      <td>641</td>\n",
       "      <td>NaN</td>\n",
       "      <td>NaN</td>\n",
       "      <td>NaN</td>\n",
       "    </tr>\n",
       "    <tr>\n",
       "      <th>4</th>\n",
       "      <td>4</td>\n",
       "      <td>646097</td>\n",
       "      <td>Rebel Ridge</td>\n",
       "      <td>A former Marine confronts corruption in a smal...</td>\n",
       "      <td>2024-08-27</td>\n",
       "      <td>1107.009</td>\n",
       "      <td>7.04</td>\n",
       "      <td>633</td>\n",
       "      <td>NaN</td>\n",
       "      <td>NaN</td>\n",
       "      <td>NaN</td>\n",
       "    </tr>\n",
       "  </tbody>\n",
       "</table>\n",
       "</div>"
      ],
      "text/plain": [
       "  Unnamed: 0      id                    title  \\\n",
       "0          0  957452                 The Crow   \n",
       "1          1  519182          Despicable Me 4   \n",
       "2          2  365177              Borderlands   \n",
       "3          3  917496  Beetlejuice Beetlejuice   \n",
       "4          4  646097              Rebel Ridge   \n",
       "\n",
       "                                            overview release_date popularity  \\\n",
       "0  Soulmates Eric and Shelly are brutally murdere...   2024-08-21   4065.642   \n",
       "1  Gru and Lucy and their girls—Margo, Edith and ...   2024-06-20   1743.127   \n",
       "2  Returning to her home planet, an infamous boun...   2024-08-07   1689.252   \n",
       "3  After a family tragedy, three generations of t...   2024-09-04   1434.179   \n",
       "4  A former Marine confronts corruption in a smal...   2024-08-27   1107.009   \n",
       "\n",
       "  vote_average vote_count  Unnamed: 8  Unnamed: 9  Unnamed: 10  \n",
       "0        5.314        287         NaN         NaN          NaN  \n",
       "1        7.169       1670         NaN         NaN          NaN  \n",
       "2        5.898        566         NaN         NaN          NaN  \n",
       "3        7.122        641         NaN         NaN          NaN  \n",
       "4         7.04        633         NaN         NaN          NaN  "
      ]
     },
     "execution_count": 30,
     "metadata": {},
     "output_type": "execute_result"
    }
   ],
   "source": [
    "movies.head()"
   ]
  },
  {
   "cell_type": "code",
   "execution_count": 31,
   "id": "7dcc69cb",
   "metadata": {},
   "outputs": [],
   "source": [
    "movies.drop(columns=['Unnamed: 0', 'Unnamed: 8', 'Unnamed: 9', 'Unnamed: 10'], inplace=True)"
   ]
  },
  {
   "cell_type": "code",
   "execution_count": 32,
   "id": "85b93c4f",
   "metadata": {
    "scrolled": false
   },
   "outputs": [
    {
     "name": "stdout",
     "output_type": "stream",
     "text": [
      "<class 'pandas.core.frame.DataFrame'>\n",
      "RangeIndex: 4704 entries, 0 to 4703\n",
      "Data columns (total 7 columns):\n",
      " #   Column        Non-Null Count  Dtype \n",
      "---  ------        --------------  ----- \n",
      " 0   id            4697 non-null   object\n",
      " 1   title         4697 non-null   object\n",
      " 2   overview      3873 non-null   object\n",
      " 3   release_date  4664 non-null   object\n",
      " 4   popularity    4687 non-null   object\n",
      " 5   vote_average  4687 non-null   object\n",
      " 6   vote_count    4687 non-null   object\n",
      "dtypes: object(7)\n",
      "memory usage: 257.4+ KB\n"
     ]
    }
   ],
   "source": [
    "movies.info()"
   ]
  },
  {
   "cell_type": "code",
   "execution_count": 33,
   "id": "09859503",
   "metadata": {},
   "outputs": [
    {
     "data": {
      "text/plain": [
       "75"
      ]
     },
     "execution_count": 33,
     "metadata": {},
     "output_type": "execute_result"
    }
   ],
   "source": [
    "movies.duplicated().sum()"
   ]
  },
  {
   "cell_type": "code",
   "execution_count": 35,
   "id": "f4b24ba1",
   "metadata": {
    "scrolled": true
   },
   "outputs": [
    {
     "data": {
      "text/html": [
       "<div>\n",
       "<style scoped>\n",
       "    .dataframe tbody tr th:only-of-type {\n",
       "        vertical-align: middle;\n",
       "    }\n",
       "\n",
       "    .dataframe tbody tr th {\n",
       "        vertical-align: top;\n",
       "    }\n",
       "\n",
       "    .dataframe thead th {\n",
       "        text-align: right;\n",
       "    }\n",
       "</style>\n",
       "<table border=\"1\" class=\"dataframe\">\n",
       "  <thead>\n",
       "    <tr style=\"text-align: right;\">\n",
       "      <th></th>\n",
       "      <th>id</th>\n",
       "      <th>title</th>\n",
       "      <th>overview</th>\n",
       "      <th>release_date</th>\n",
       "      <th>popularity</th>\n",
       "      <th>vote_average</th>\n",
       "      <th>vote_count</th>\n",
       "    </tr>\n",
       "  </thead>\n",
       "  <tbody>\n",
       "    <tr>\n",
       "      <th>59</th>\n",
       "      <td>1051891</td>\n",
       "      <td>Thelma</td>\n",
       "      <td>When 93-year-old Thelma Post gets duped by a p...</td>\n",
       "      <td>2024-06-21</td>\n",
       "      <td>193.644</td>\n",
       "      <td>7.106</td>\n",
       "      <td>109</td>\n",
       "    </tr>\n",
       "    <tr>\n",
       "      <th>60</th>\n",
       "      <td>1051891</td>\n",
       "      <td>Thelma</td>\n",
       "      <td>When 93-year-old Thelma Post gets duped by a p...</td>\n",
       "      <td>2024-06-21</td>\n",
       "      <td>193.644</td>\n",
       "      <td>7.106</td>\n",
       "      <td>109</td>\n",
       "    </tr>\n",
       "    <tr>\n",
       "      <th>85</th>\n",
       "      <td>814889</td>\n",
       "      <td>Never Let Go</td>\n",
       "      <td>As an evil takes over the world beyond their f...</td>\n",
       "      <td>2024-09-18</td>\n",
       "      <td>95.913</td>\n",
       "      <td>4.7</td>\n",
       "      <td>3</td>\n",
       "    </tr>\n",
       "    <tr>\n",
       "      <th>106</th>\n",
       "      <td>814889</td>\n",
       "      <td>Never Let Go</td>\n",
       "      <td>As an evil takes over the world beyond their f...</td>\n",
       "      <td>2024-09-18</td>\n",
       "      <td>95.913</td>\n",
       "      <td>4.7</td>\n",
       "      <td>3</td>\n",
       "    </tr>\n",
       "    <tr>\n",
       "      <th>199</th>\n",
       "      <td>1340571</td>\n",
       "      <td>Lord of the Wolves</td>\n",
       "      <td>When his housemate dies under mysterious circu...</td>\n",
       "      <td>2024-09-20</td>\n",
       "      <td>21.136</td>\n",
       "      <td>0</td>\n",
       "      <td>0</td>\n",
       "    </tr>\n",
       "    <tr>\n",
       "      <th>...</th>\n",
       "      <td>...</td>\n",
       "      <td>...</td>\n",
       "      <td>...</td>\n",
       "      <td>...</td>\n",
       "      <td>...</td>\n",
       "      <td>...</td>\n",
       "      <td>...</td>\n",
       "    </tr>\n",
       "    <tr>\n",
       "      <th>4692</th>\n",
       "      <td>1359978</td>\n",
       "      <td>Dolors</td>\n",
       "      <td>NaN</td>\n",
       "      <td>2024-09-21</td>\n",
       "      <td>1.4</td>\n",
       "      <td>0</td>\n",
       "      <td>0</td>\n",
       "    </tr>\n",
       "    <tr>\n",
       "      <th>4693</th>\n",
       "      <td>1359976</td>\n",
       "      <td>Do It For The Gram</td>\n",
       "      <td>A professor at a prestigious college faces lif...</td>\n",
       "      <td>2024-09-20</td>\n",
       "      <td>1.4</td>\n",
       "      <td>0</td>\n",
       "      <td>0</td>\n",
       "    </tr>\n",
       "    <tr>\n",
       "      <th>4694</th>\n",
       "      <td>1359963</td>\n",
       "      <td>Harsh Look</td>\n",
       "      <td>A look into the Boy's average day.</td>\n",
       "      <td>2024-09-21</td>\n",
       "      <td>1.4</td>\n",
       "      <td>0</td>\n",
       "      <td>0</td>\n",
       "    </tr>\n",
       "    <tr>\n",
       "      <th>4695</th>\n",
       "      <td>1359954</td>\n",
       "      <td>FEAR</td>\n",
       "      <td>a story about a teenagers who got bullied in s...</td>\n",
       "      <td>2024-09-05</td>\n",
       "      <td>1.4</td>\n",
       "      <td>0</td>\n",
       "      <td>0</td>\n",
       "    </tr>\n",
       "    <tr>\n",
       "      <th>4696</th>\n",
       "      <td>1359920</td>\n",
       "      <td>The Mind of a Prankster</td>\n",
       "      <td>The story behind a pair of pranksters that may...</td>\n",
       "      <td>2024-09-12</td>\n",
       "      <td>1.4</td>\n",
       "      <td>10</td>\n",
       "      <td>1</td>\n",
       "    </tr>\n",
       "  </tbody>\n",
       "</table>\n",
       "<p>145 rows × 7 columns</p>\n",
       "</div>"
      ],
      "text/plain": [
       "           id                    title  \\\n",
       "59    1051891                   Thelma   \n",
       "60    1051891                   Thelma   \n",
       "85     814889             Never Let Go   \n",
       "106    814889             Never Let Go   \n",
       "199   1340571       Lord of the Wolves   \n",
       "...       ...                      ...   \n",
       "4692  1359978                   Dolors   \n",
       "4693  1359976       Do It For The Gram   \n",
       "4694  1359963               Harsh Look   \n",
       "4695  1359954                     FEAR   \n",
       "4696  1359920  The Mind of a Prankster   \n",
       "\n",
       "                                               overview release_date  \\\n",
       "59    When 93-year-old Thelma Post gets duped by a p...   2024-06-21   \n",
       "60    When 93-year-old Thelma Post gets duped by a p...   2024-06-21   \n",
       "85    As an evil takes over the world beyond their f...   2024-09-18   \n",
       "106   As an evil takes over the world beyond their f...   2024-09-18   \n",
       "199   When his housemate dies under mysterious circu...   2024-09-20   \n",
       "...                                                 ...          ...   \n",
       "4692                                                NaN   2024-09-21   \n",
       "4693  A professor at a prestigious college faces lif...   2024-09-20   \n",
       "4694                 A look into the Boy's average day.   2024-09-21   \n",
       "4695  a story about a teenagers who got bullied in s...   2024-09-05   \n",
       "4696  The story behind a pair of pranksters that may...   2024-09-12   \n",
       "\n",
       "     popularity vote_average vote_count  \n",
       "59      193.644        7.106        109  \n",
       "60      193.644        7.106        109  \n",
       "85       95.913          4.7          3  \n",
       "106      95.913          4.7          3  \n",
       "199      21.136            0          0  \n",
       "...         ...          ...        ...  \n",
       "4692        1.4            0          0  \n",
       "4693        1.4            0          0  \n",
       "4694        1.4            0          0  \n",
       "4695        1.4            0          0  \n",
       "4696        1.4           10          1  \n",
       "\n",
       "[145 rows x 7 columns]"
      ]
     },
     "execution_count": 35,
     "metadata": {},
     "output_type": "execute_result"
    }
   ],
   "source": [
    "movies[movies.duplicated(keep=False)]"
   ]
  },
  {
   "cell_type": "code",
   "execution_count": 37,
   "id": "124ec45b",
   "metadata": {},
   "outputs": [],
   "source": [
    "movies.drop_duplicates(inplace=True)"
   ]
  },
  {
   "cell_type": "code",
   "execution_count": 38,
   "id": "ff57a7f5",
   "metadata": {},
   "outputs": [
    {
     "data": {
      "text/plain": [
       "0"
      ]
     },
     "execution_count": 38,
     "metadata": {},
     "output_type": "execute_result"
    }
   ],
   "source": [
    "movies.duplicated().sum()"
   ]
  },
  {
   "cell_type": "code",
   "execution_count": 39,
   "id": "3c8e8b60",
   "metadata": {},
   "outputs": [
    {
     "data": {
      "text/plain": [
       "Index(['id', 'title', 'overview', 'release_date', 'popularity', 'vote_average',\n",
       "       'vote_count'],\n",
       "      dtype='object')"
      ]
     },
     "execution_count": 39,
     "metadata": {},
     "output_type": "execute_result"
    }
   ],
   "source": [
    "movies.columns"
   ]
  },
  {
   "cell_type": "code",
   "execution_count": 40,
   "id": "042f0662",
   "metadata": {},
   "outputs": [
    {
     "data": {
      "text/plain": [
       "0"
      ]
     },
     "execution_count": 40,
     "metadata": {},
     "output_type": "execute_result"
    }
   ],
   "source": [
    "movies[['title', 'overview', 'release_date', 'popularity', 'vote_average',\n",
    "       'vote_count']].duplicated().sum()"
   ]
  },
  {
   "cell_type": "code",
   "execution_count": 42,
   "id": "510d5d26",
   "metadata": {},
   "outputs": [
    {
     "data": {
      "text/plain": [
       "array(['2024-08-21', '2024-06-20', '2024-08-07', '2024-09-04',\n",
       "       '2024-08-27', '2024-09-10', '2024-09-11', '2024-08-15',\n",
       "       '2024-08-13', '2024-04-30', '2024-04-01', '2024-09-07',\n",
       "       '2024-07-10', '2024-04-23', '2024-08-22', '1988-03-30',\n",
       "       '2024-07-03', '2024-09-12', '2024-05-31', '2024-04-11',\n",
       "       '2024-07-31', '2024-03-15', '2024-08-16', '2024-03-14',\n",
       "       '2024-08-02', '2024-09-05', '2024-05-30', '2024-08-23',\n",
       "       '2024-09-06', '2023-06-28', '2024-08-01', '2024-03-19',\n",
       "       '2024-08-28', '2009-02-05', '2024-08-20', '2024-03-22',\n",
       "       '2024-07-19', '2003-12-17', '2024-04-19', '2001-12-18',\n",
       "       '2019-10-01', '2024-08-29', '2024-04-24', '2024-05-15',\n",
       "       '2024-01-18', '2024-01-24', '2024-06-21', '2024-04-26',\n",
       "       '2024-07-04', '2024-09-19', '2024-08-18', '2023-05-31',\n",
       "       '2024-07-26', '2024-09-20', '2023-11-03', '2024-04-16',\n",
       "       '1994-06-24', '2024-04-03', '2024-05-16', '2021-10-13',\n",
       "       '2024-08-30', '2024-04-04', '2024-03-08', '2004-05-19',\n",
       "       '2023-07-14', '2024-08-08', '2024-09-18', '2024-06-07',\n",
       "       '2024-06-26', '2007-05-01', '2024-02-22', '2024-06-28',\n",
       "       '1977-05-25', '2018-10-12', '2024-04-10', '2024-01-10',\n",
       "       '2024-07-05', '2024-08-09', '2024-09-17', '1999-03-31',\n",
       "       '2024-04-12', '2024-06-19', '2023-12-06', '2024-01-05',\n",
       "       '2023-06-02', '2014-10-22', '2024-03-21', '2024-06-17',\n",
       "       '2024-07-13', '2024-05-03', '2024-05-08', '2023-09-13',\n",
       "       '2024-03-06', '2024-09-25', '2023-11-05', '2024-09-13',\n",
       "       '2023-03-31', '2024-07-11', '1989-06-21', '2023-09-20',\n",
       "       '2024-01-11', '2023-01-22', '2023-12-14', '2024-09-03',\n",
       "       '2023-12-27', '2024-02-07', '1979-08-15', '1979-08-14',\n",
       "       '2024-06-27', '2024-04-18', '2023-11-09', '2024-09-21',\n",
       "       '2024-01-26', '2024-09-22', '2024-02-20', '2009-12-12',\n",
       "       '2024-03-27', '2004-09-09', '2015-02-04', '2004-04-09',\n",
       "       '2023-08-05', '2024-01-27', '2022-10-21', '2024-09-02',\n",
       "       '1987-07-17', '2023-11-08', '2024-05-01', '2023-12-21',\n",
       "       '2000-09-29', '1977-02-01', '2024-09-23', '2023-12-08',\n",
       "       '2023-10-04', '2024-07-25', '2023-09-07', '2024-03-07',\n",
       "       '2023-10-26', '2023-07-20', '1991-07-20', '2024-08-14',\n",
       "       '1995-11-18', '2023-04-12', '2023-10-05', '2010-07-16',\n",
       "       '2024-07-12', '2024-09-15', '2023-08-30', '2023-11-01',\n",
       "       '2022-09-09', '2010-01-22', '2023-09-15', '2023-08-18',\n",
       "       '2023-12-22', '2024-07-18', '2023-04-20', '2016-01-22',\n",
       "       '2019-10-25', '2014-08-21', '1994-05-12', '2023-05-12',\n",
       "       '2024-05-09', '2004-06-16', '2023-02-01', '2023-01-25',\n",
       "       '2023-05-16', '2024-09-24', '2024-04-05', '1999-07-17',\n",
       "       '1997-12-27', '2022-04-07', '1975-03-14', '2024-09-14',\n",
       "       '1993-06-05', '2023-09-29', '1949-08-31', '2024-09-01',\n",
       "       '2023-08-11', '2023-10-20', '2023-12-01', '2024-09-16',\n",
       "       '2024-03-01', '1969-06-02', '2022-06-09', '2023-10-13',\n",
       "       '2023-05-04', '2023-04-21', '2024-08-31', '2024-06-12',\n",
       "       '2024-05-29', '2009-10-22', '2023-11-22', '2024-02-09',\n",
       "       '2022-09-02', '1994-01-26', '2023-11-02', '2023-05-24',\n",
       "       '2023-07-05', '2023-03-23', '2024-02-23', '1997-12-19',\n",
       "       '1946-08-23', '2022-06-27', '2013-04-26', '2023-09-22',\n",
       "       '2023-09-01', '1967-10-25', '1993-09-08', '2024-08-24',\n",
       "       '2022-10-20', '2021-10-14', '2024-09-08', '2024-02-14',\n",
       "       '1959-01-07', '2023-04-16', '2024-08-26', '2024-06-13',\n",
       "       '1989-07-15', '1960-05-16', '1974-10-04', '2023-08-24',\n",
       "       '2024-03-28', '2023-12-29', '2024-08-19', '2023-06-07',\n",
       "       '2024-06-14', '2024-08-25', '2001-10-31', '2012-12-25',\n",
       "       '1986-05-09', '1944-07-06', '2023-10-19', '2023-11-10',\n",
       "       '2023-03-02', '2022-02-01', '1964-08-05', '1996-12-21',\n",
       "       '2023-11-21', '2021-06-11', '2024-07-06', '1994-05-31',\n",
       "       '2023-10-17', '2009-09-24', '2023-04-27', '1993-12-25',\n",
       "       '2018-08-16', '1988-03-11', '2023-09-27', '2023-08-16',\n",
       "       '2022-09-21', '1993-02-05', '2023-01-18', '2024-05-21',\n",
       "       '2022-10-28', '1974-11-18', '2024-08-10', '1954-11-23',\n",
       "       '1987-12-11', '2024-03-29', '2023-02-24', '2022-07-13',\n",
       "       '2023-11-16', '2023-09-08', '2023-10-21', '2024-08-03',\n",
       "       '2023-07-24', '2023-11-24', '2023-06-15', '1984-11-16',\n",
       "       '2022-04-22', '2024-04-20', nan, '0', '1981-04-17', '2023-07-27',\n",
       "       '2023-08-02', '2023-10-11', '2021-06-18', '2023-01-26',\n",
       "       '1988-08-21', '1984-10-25', '2022-04-29', '2024-09-09',\n",
       "       '2024-04-25', '2023-11-30', '2024-02-29', '2021-09-24',\n",
       "       '1974-03-05', '2024-02-27', '2024-02-10',\n",
       "       ' his final wish to have one last perfect weekend sends everyone into a whirlwind of buried family secrets and conflict.',\n",
       "       '2024-05-10', '2023-11-15', '2024-02-28', '2015-10-17',\n",
       "       '2002-07-24', '2023-03-22', '2024-05-24', '1959-11-03',\n",
       "       '2023-01-12', '2023-11-23', '2023-05-11', '2024-01-25',\n",
       "       '2020-11-11', '2023-10-18', '2022-04-20', '2023-07-28',\n",
       "       '2023-04-04', '1985-12-01', '2024-07-17', '2000-02-25',\n",
       "       '2016-09-09', '2022-10-22', '1998-01-10', '1973-09-01',\n",
       "       '1972-09-15', '2023-10-27', '1998-11-27', '2024-08-06',\n",
       "       '2024-07-08', '1981-05-01',\n",
       "       \"I enjoy religion, I appreciate belief systems and how they offer structure to people's lives. I also appreciate how spirituality manifests itself in Asian cultures as this almost earthbound presence guiding people through every day life and when they need an extra bit of help they need only ask whichever deity holds dominion over their desire.  Here is an experimental film I made with videos from my iPhone. Shot across Taiwan and South Korea.  An experimental film I made with videos from my iPhone. Shot across Taiwan and Korea. My aim was to explore success in how it pertains to every day life, the satisfaction of small moments, spirituality, superstition, and daily rituals.\",\n",
       "       '2024-08-17', '2024-05-17', '2024-05-07', '2024-04-13',\n",
       "       '1993-03-20', '2024-04-17', '2022-02-18', '2021-10-28',\n",
       "       '2023-01-13', '2023-08-25',\n",
       "       'Two tales of migration. In the first,\\u202fafter a tailings dam disaster floods her hometown, rural worker Joana (55) moves to São Paulo\\u202fto find her sister Tania, who lives with her grandson Jaime. Joana enters the universe of insecurity, replying to an application for house cleaning. She bonds with her colleagues, and their struggle for better conditions gives Joana’s life a new meaning. Her relationship with young Jaime brings back old memories. In the second part, after the death of her estranged father, Flavia (32) moves to her farm with her wife Mara. The couple suffer a shock of reality when facing the harshness of rural life. The contact with the abandoned house reveals to Flavia unknown aspects of her father. She begins to suspect that there is something supernatural in the woods.',\n",
       "       '2022-03-04', '2024-02-02', '2023-05-07', '2022-09-01',\n",
       "       '1986-02-21', '2024-06-06', '2023-10-12', '2024-07-27',\n",
       "       '2023-09-14', '2023-03-18',\n",
       "       ' a moment of introspection while transitioning from one environment to the next.',\n",
       "       '1984-06-24', '2024-02-08', '2023-04-03', '2024-02-03',\n",
       "       '2024-02-12', '2023-06-01', '2014-08-27', '2023-06-29',\n",
       "       '2020-06-09', '2023-12-07',\n",
       "       ' why they came and what had happened in Chile.', '2023-03-11',\n",
       "       '1964-11-19', '2024-03-13', '2023-12-28', '2016-07-01',\n",
       "       '2022-07-08',\n",
       "       ' he proposes marriage to Katya. But this fabulous walk will have an unexpected ending.',\n",
       "       '2022-12-02', '1979-12-21', '2009-07-01', '2022-04-21',\n",
       "       '2024-04-15', '2023-01-03', '2021-07-16', '2024-02-01',\n",
       "       '2023-12-10', ' BEER.', '2023-08-31', '2022-10-03', '2023-04-23',\n",
       "       '2023-06-13', '1971-11-05', '1908-02-01', '2023-11-17',\n",
       "       '2022-05-21', '2024-05-11', '2022-07-21', '2002-11-04',\n",
       "       '2023-12-04', '1998-07-22', '2021-12-10', '1955-07-18',\n",
       "       ' he is drawn to the spicy life of a queer vaudeville troupe performing in his village.',\n",
       "       '2022-10-06', '2022-06-16', '2021-11-17', '2024-03-20',\n",
       "       '2023-10-07', '2023-11-06', '2024-06-11', '2024-03-05',\n",
       "       'Drawing its title from a song by Afghan singer Ahmad Zahir, \"you have black eyes\" is a stream-of-consciousness montage depicting collective bodies in a constant state of disruption, movement, processing, and grieving. It celebrates the body as a historical, domestic site of resistance through dance and movement including found footage of ants carrying flowers, rubab player Ustad Beltoon interrupted, and Hazara throat singing across an imaginary landscape.',\n",
       "       '2022-04-01', '2023-11-27', '2007-10-11', '2020-09-11',\n",
       "       '2023-07-21', '2023-07-11', '2024-06-18', '2023-07-18',\n",
       "       '2023-08-12', '2023-05-08', '2021-08-24', '2023-02-25',\n",
       "       '2023-06-14', '2020-11-25',\n",
       "       ' an illusion between two-dimensionality and three-dimensionality',\n",
       "       '2023-01-01'], dtype=object)"
      ]
     },
     "execution_count": 42,
     "metadata": {},
     "output_type": "execute_result"
    }
   ],
   "source": [
    "movies['release_date'].unique()"
   ]
  },
  {
   "cell_type": "code",
   "execution_count": 41,
   "id": "47d0ff3d",
   "metadata": {},
   "outputs": [
    {
     "data": {
      "text/html": [
       "<div>\n",
       "<style scoped>\n",
       "    .dataframe tbody tr th:only-of-type {\n",
       "        vertical-align: middle;\n",
       "    }\n",
       "\n",
       "    .dataframe tbody tr th {\n",
       "        vertical-align: top;\n",
       "    }\n",
       "\n",
       "    .dataframe thead th {\n",
       "        text-align: right;\n",
       "    }\n",
       "</style>\n",
       "<table border=\"1\" class=\"dataframe\">\n",
       "  <thead>\n",
       "    <tr style=\"text-align: right;\">\n",
       "      <th></th>\n",
       "      <th>id</th>\n",
       "      <th>title</th>\n",
       "      <th>overview</th>\n",
       "      <th>release_date</th>\n",
       "      <th>popularity</th>\n",
       "      <th>vote_average</th>\n",
       "      <th>vote_count</th>\n",
       "    </tr>\n",
       "  </thead>\n",
       "  <tbody>\n",
       "    <tr>\n",
       "      <th>0</th>\n",
       "      <td>957452</td>\n",
       "      <td>The Crow</td>\n",
       "      <td>Soulmates Eric and Shelly are brutally murdere...</td>\n",
       "      <td>2024-08-21</td>\n",
       "      <td>4065.642</td>\n",
       "      <td>5.314</td>\n",
       "      <td>287</td>\n",
       "    </tr>\n",
       "    <tr>\n",
       "      <th>1</th>\n",
       "      <td>519182</td>\n",
       "      <td>Despicable Me 4</td>\n",
       "      <td>Gru and Lucy and their girls—Margo, Edith and ...</td>\n",
       "      <td>2024-06-20</td>\n",
       "      <td>1743.127</td>\n",
       "      <td>7.169</td>\n",
       "      <td>1670</td>\n",
       "    </tr>\n",
       "    <tr>\n",
       "      <th>2</th>\n",
       "      <td>365177</td>\n",
       "      <td>Borderlands</td>\n",
       "      <td>Returning to her home planet, an infamous boun...</td>\n",
       "      <td>2024-08-07</td>\n",
       "      <td>1689.252</td>\n",
       "      <td>5.898</td>\n",
       "      <td>566</td>\n",
       "    </tr>\n",
       "    <tr>\n",
       "      <th>3</th>\n",
       "      <td>917496</td>\n",
       "      <td>Beetlejuice Beetlejuice</td>\n",
       "      <td>After a family tragedy, three generations of t...</td>\n",
       "      <td>2024-09-04</td>\n",
       "      <td>1434.179</td>\n",
       "      <td>7.122</td>\n",
       "      <td>641</td>\n",
       "    </tr>\n",
       "    <tr>\n",
       "      <th>4</th>\n",
       "      <td>646097</td>\n",
       "      <td>Rebel Ridge</td>\n",
       "      <td>A former Marine confronts corruption in a smal...</td>\n",
       "      <td>2024-08-27</td>\n",
       "      <td>1107.009</td>\n",
       "      <td>7.04</td>\n",
       "      <td>633</td>\n",
       "    </tr>\n",
       "  </tbody>\n",
       "</table>\n",
       "</div>"
      ],
      "text/plain": [
       "       id                    title  \\\n",
       "0  957452                 The Crow   \n",
       "1  519182          Despicable Me 4   \n",
       "2  365177              Borderlands   \n",
       "3  917496  Beetlejuice Beetlejuice   \n",
       "4  646097              Rebel Ridge   \n",
       "\n",
       "                                            overview release_date popularity  \\\n",
       "0  Soulmates Eric and Shelly are brutally murdere...   2024-08-21   4065.642   \n",
       "1  Gru and Lucy and their girls—Margo, Edith and ...   2024-06-20   1743.127   \n",
       "2  Returning to her home planet, an infamous boun...   2024-08-07   1689.252   \n",
       "3  After a family tragedy, three generations of t...   2024-09-04   1434.179   \n",
       "4  A former Marine confronts corruption in a smal...   2024-08-27   1107.009   \n",
       "\n",
       "  vote_average vote_count  \n",
       "0        5.314        287  \n",
       "1        7.169       1670  \n",
       "2        5.898        566  \n",
       "3        7.122        641  \n",
       "4         7.04        633  "
      ]
     },
     "execution_count": 41,
     "metadata": {},
     "output_type": "execute_result"
    }
   ],
   "source": [
    "movies.head()"
   ]
  },
  {
   "cell_type": "code",
   "execution_count": 43,
   "id": "391086d6",
   "metadata": {},
   "outputs": [
    {
     "data": {
      "text/html": [
       "<div>\n",
       "<style scoped>\n",
       "    .dataframe tbody tr th:only-of-type {\n",
       "        vertical-align: middle;\n",
       "    }\n",
       "\n",
       "    .dataframe tbody tr th {\n",
       "        vertical-align: top;\n",
       "    }\n",
       "\n",
       "    .dataframe thead th {\n",
       "        text-align: right;\n",
       "    }\n",
       "</style>\n",
       "<table border=\"1\" class=\"dataframe\">\n",
       "  <thead>\n",
       "    <tr style=\"text-align: right;\">\n",
       "      <th></th>\n",
       "      <th>count</th>\n",
       "      <th>percent</th>\n",
       "    </tr>\n",
       "  </thead>\n",
       "  <tbody>\n",
       "    <tr>\n",
       "      <th>id</th>\n",
       "      <td>1</td>\n",
       "      <td>0.000216</td>\n",
       "    </tr>\n",
       "    <tr>\n",
       "      <th>title</th>\n",
       "      <td>1</td>\n",
       "      <td>0.000216</td>\n",
       "    </tr>\n",
       "    <tr>\n",
       "      <th>overview</th>\n",
       "      <td>809</td>\n",
       "      <td>0.174768</td>\n",
       "    </tr>\n",
       "    <tr>\n",
       "      <th>release_date</th>\n",
       "      <td>34</td>\n",
       "      <td>0.007345</td>\n",
       "    </tr>\n",
       "    <tr>\n",
       "      <th>popularity</th>\n",
       "      <td>11</td>\n",
       "      <td>0.002376</td>\n",
       "    </tr>\n",
       "    <tr>\n",
       "      <th>vote_average</th>\n",
       "      <td>11</td>\n",
       "      <td>0.002376</td>\n",
       "    </tr>\n",
       "    <tr>\n",
       "      <th>vote_count</th>\n",
       "      <td>11</td>\n",
       "      <td>0.002376</td>\n",
       "    </tr>\n",
       "  </tbody>\n",
       "</table>\n",
       "</div>"
      ],
      "text/plain": [
       "              count   percent\n",
       "id                1  0.000216\n",
       "title             1  0.000216\n",
       "overview        809  0.174768\n",
       "release_date     34  0.007345\n",
       "popularity       11  0.002376\n",
       "vote_average     11  0.002376\n",
       "vote_count       11  0.002376"
      ]
     },
     "execution_count": 43,
     "metadata": {},
     "output_type": "execute_result"
    }
   ],
   "source": [
    "pd.DataFrame({'count': movies.isna().sum(), 'percent': movies.isna().sum()/len(movies)})"
   ]
  },
  {
   "cell_type": "code",
   "execution_count": 44,
   "id": "c9bed2d4",
   "metadata": {},
   "outputs": [
    {
     "data": {
      "text/html": [
       "<div>\n",
       "<style scoped>\n",
       "    .dataframe tbody tr th:only-of-type {\n",
       "        vertical-align: middle;\n",
       "    }\n",
       "\n",
       "    .dataframe tbody tr th {\n",
       "        vertical-align: top;\n",
       "    }\n",
       "\n",
       "    .dataframe thead th {\n",
       "        text-align: right;\n",
       "    }\n",
       "</style>\n",
       "<table border=\"1\" class=\"dataframe\">\n",
       "  <thead>\n",
       "    <tr style=\"text-align: right;\">\n",
       "      <th></th>\n",
       "      <th>id</th>\n",
       "      <th>title</th>\n",
       "      <th>overview</th>\n",
       "      <th>release_date</th>\n",
       "      <th>popularity</th>\n",
       "      <th>vote_average</th>\n",
       "      <th>vote_count</th>\n",
       "    </tr>\n",
       "  </thead>\n",
       "  <tbody>\n",
       "    <tr>\n",
       "      <th>2460</th>\n",
       "      <td>NaN</td>\n",
       "      <td>NaN</td>\n",
       "      <td>NaN</td>\n",
       "      <td>NaN</td>\n",
       "      <td>NaN</td>\n",
       "      <td>NaN</td>\n",
       "      <td>NaN</td>\n",
       "    </tr>\n",
       "  </tbody>\n",
       "</table>\n",
       "</div>"
      ],
      "text/plain": [
       "       id title overview release_date popularity vote_average vote_count\n",
       "2460  NaN   NaN      NaN          NaN        NaN          NaN        NaN"
      ]
     },
     "execution_count": 44,
     "metadata": {},
     "output_type": "execute_result"
    }
   ],
   "source": [
    "movies[movies['title'].isna()]"
   ]
  },
  {
   "cell_type": "code",
   "execution_count": 22,
   "id": "11b579a8",
   "metadata": {},
   "outputs": [
    {
     "data": {
      "text/plain": [
       "id              NaN\n",
       "title           NaN\n",
       "overview        NaN\n",
       "release_date    NaN\n",
       "popularity      NaN\n",
       "vote_average    NaN\n",
       "vote_count      NaN\n",
       "Name: 2460, dtype: object"
      ]
     },
     "execution_count": 22,
     "metadata": {},
     "output_type": "execute_result"
    }
   ],
   "source": [
    "movies.iloc[2460]"
   ]
  },
  {
   "cell_type": "code",
   "execution_count": 45,
   "id": "09614e5a",
   "metadata": {},
   "outputs": [],
   "source": [
    "movies.drop(movies[movies['title'].isna()].index, inplace=True)"
   ]
  },
  {
   "cell_type": "code",
   "execution_count": 46,
   "id": "a71a0500",
   "metadata": {},
   "outputs": [
    {
     "data": {
      "text/html": [
       "<div>\n",
       "<style scoped>\n",
       "    .dataframe tbody tr th:only-of-type {\n",
       "        vertical-align: middle;\n",
       "    }\n",
       "\n",
       "    .dataframe tbody tr th {\n",
       "        vertical-align: top;\n",
       "    }\n",
       "\n",
       "    .dataframe thead th {\n",
       "        text-align: right;\n",
       "    }\n",
       "</style>\n",
       "<table border=\"1\" class=\"dataframe\">\n",
       "  <thead>\n",
       "    <tr style=\"text-align: right;\">\n",
       "      <th></th>\n",
       "      <th>count</th>\n",
       "      <th>percent</th>\n",
       "    </tr>\n",
       "  </thead>\n",
       "  <tbody>\n",
       "    <tr>\n",
       "      <th>id</th>\n",
       "      <td>0</td>\n",
       "      <td>0.000000</td>\n",
       "    </tr>\n",
       "    <tr>\n",
       "      <th>title</th>\n",
       "      <td>0</td>\n",
       "      <td>0.000000</td>\n",
       "    </tr>\n",
       "    <tr>\n",
       "      <th>overview</th>\n",
       "      <td>808</td>\n",
       "      <td>0.174589</td>\n",
       "    </tr>\n",
       "    <tr>\n",
       "      <th>release_date</th>\n",
       "      <td>33</td>\n",
       "      <td>0.007131</td>\n",
       "    </tr>\n",
       "    <tr>\n",
       "      <th>popularity</th>\n",
       "      <td>10</td>\n",
       "      <td>0.002161</td>\n",
       "    </tr>\n",
       "    <tr>\n",
       "      <th>vote_average</th>\n",
       "      <td>10</td>\n",
       "      <td>0.002161</td>\n",
       "    </tr>\n",
       "    <tr>\n",
       "      <th>vote_count</th>\n",
       "      <td>10</td>\n",
       "      <td>0.002161</td>\n",
       "    </tr>\n",
       "  </tbody>\n",
       "</table>\n",
       "</div>"
      ],
      "text/plain": [
       "              count   percent\n",
       "id                0  0.000000\n",
       "title             0  0.000000\n",
       "overview        808  0.174589\n",
       "release_date     33  0.007131\n",
       "popularity       10  0.002161\n",
       "vote_average     10  0.002161\n",
       "vote_count       10  0.002161"
      ]
     },
     "execution_count": 46,
     "metadata": {},
     "output_type": "execute_result"
    }
   ],
   "source": [
    "pd.DataFrame({'count': movies.isna().sum(), 'percent': movies.isna().sum()/len(movies)})"
   ]
  },
  {
   "cell_type": "code",
   "execution_count": 47,
   "id": "012ed5d5",
   "metadata": {},
   "outputs": [
    {
     "data": {
      "text/html": [
       "<div>\n",
       "<style scoped>\n",
       "    .dataframe tbody tr th:only-of-type {\n",
       "        vertical-align: middle;\n",
       "    }\n",
       "\n",
       "    .dataframe tbody tr th {\n",
       "        vertical-align: top;\n",
       "    }\n",
       "\n",
       "    .dataframe thead th {\n",
       "        text-align: right;\n",
       "    }\n",
       "</style>\n",
       "<table border=\"1\" class=\"dataframe\">\n",
       "  <thead>\n",
       "    <tr style=\"text-align: right;\">\n",
       "      <th></th>\n",
       "      <th>id</th>\n",
       "      <th>title</th>\n",
       "      <th>overview</th>\n",
       "      <th>release_date</th>\n",
       "      <th>popularity</th>\n",
       "      <th>vote_average</th>\n",
       "      <th>vote_count</th>\n",
       "    </tr>\n",
       "  </thead>\n",
       "  <tbody>\n",
       "    <tr>\n",
       "      <th>94</th>\n",
       "      <td>1087421</td>\n",
       "      <td>Odio el verano</td>\n",
       "      <td>NaN</td>\n",
       "      <td>2024-08-23</td>\n",
       "      <td>86.451</td>\n",
       "      <td>6.5</td>\n",
       "      <td>2</td>\n",
       "    </tr>\n",
       "    <tr>\n",
       "      <th>191</th>\n",
       "      <td>1230477</td>\n",
       "      <td>Given The Movie : Hiiragi Mix</td>\n",
       "      <td>NaN</td>\n",
       "      <td>2024-01-27</td>\n",
       "      <td>37.15</td>\n",
       "      <td>0</td>\n",
       "      <td>0</td>\n",
       "    </tr>\n",
       "    <tr>\n",
       "      <th>229</th>\n",
       "      <td>997086</td>\n",
       "      <td>My Next Life as a Villainess: All Routes Lead ...</td>\n",
       "      <td>NaN</td>\n",
       "      <td>2023-12-08</td>\n",
       "      <td>40.545</td>\n",
       "      <td>7.7</td>\n",
       "      <td>5</td>\n",
       "    </tr>\n",
       "    <tr>\n",
       "      <th>297</th>\n",
       "      <td>1352344</td>\n",
       "      <td>Anima Kronos</td>\n",
       "      <td>NaN</td>\n",
       "      <td>2024-09-21</td>\n",
       "      <td>15.28</td>\n",
       "      <td>0</td>\n",
       "      <td>0</td>\n",
       "    </tr>\n",
       "    <tr>\n",
       "      <th>308</th>\n",
       "      <td>1352843</td>\n",
       "      <td>Olli</td>\n",
       "      <td>NaN</td>\n",
       "      <td>2024-09-22</td>\n",
       "      <td>23.653</td>\n",
       "      <td>0</td>\n",
       "      <td>0</td>\n",
       "    </tr>\n",
       "    <tr>\n",
       "      <th>...</th>\n",
       "      <td>...</td>\n",
       "      <td>...</td>\n",
       "      <td>...</td>\n",
       "      <td>...</td>\n",
       "      <td>...</td>\n",
       "      <td>...</td>\n",
       "      <td>...</td>\n",
       "    </tr>\n",
       "    <tr>\n",
       "      <th>4666</th>\n",
       "      <td>1360236</td>\n",
       "      <td>Toms romantiska resa</td>\n",
       "      <td>NaN</td>\n",
       "      <td>2024-09-22</td>\n",
       "      <td>1.4</td>\n",
       "      <td>0</td>\n",
       "      <td>0</td>\n",
       "    </tr>\n",
       "    <tr>\n",
       "      <th>4671</th>\n",
       "      <td>1360180</td>\n",
       "      <td>Shelpek</td>\n",
       "      <td>NaN</td>\n",
       "      <td>2024-09-23</td>\n",
       "      <td>1.4</td>\n",
       "      <td>0</td>\n",
       "      <td>0</td>\n",
       "    </tr>\n",
       "    <tr>\n",
       "      <th>4675</th>\n",
       "      <td>1360101</td>\n",
       "      <td>Der Irland-Krimi: Gnadentod</td>\n",
       "      <td>NaN</td>\n",
       "      <td>2024-09-19</td>\n",
       "      <td>1.4</td>\n",
       "      <td>0</td>\n",
       "      <td>0</td>\n",
       "    </tr>\n",
       "    <tr>\n",
       "      <th>4685</th>\n",
       "      <td>1359989</td>\n",
       "      <td>Jean-Louis Aubert, le chant des possibles</td>\n",
       "      <td>NaN</td>\n",
       "      <td>2024-09-23</td>\n",
       "      <td>1.4</td>\n",
       "      <td>8</td>\n",
       "      <td>1</td>\n",
       "    </tr>\n",
       "    <tr>\n",
       "      <th>4686</th>\n",
       "      <td>1359978</td>\n",
       "      <td>Dolors</td>\n",
       "      <td>NaN</td>\n",
       "      <td>2024-09-21</td>\n",
       "      <td>1.4</td>\n",
       "      <td>0</td>\n",
       "      <td>0</td>\n",
       "    </tr>\n",
       "  </tbody>\n",
       "</table>\n",
       "<p>808 rows × 7 columns</p>\n",
       "</div>"
      ],
      "text/plain": [
       "           id                                              title overview  \\\n",
       "94    1087421                                     Odio el verano      NaN   \n",
       "191   1230477                      Given The Movie : Hiiragi Mix      NaN   \n",
       "229    997086  My Next Life as a Villainess: All Routes Lead ...      NaN   \n",
       "297   1352344                                       Anima Kronos      NaN   \n",
       "308   1352843                                               Olli      NaN   \n",
       "...       ...                                                ...      ...   \n",
       "4666  1360236                               Toms romantiska resa      NaN   \n",
       "4671  1360180                                            Shelpek      NaN   \n",
       "4675  1360101                        Der Irland-Krimi: Gnadentod      NaN   \n",
       "4685  1359989          Jean-Louis Aubert, le chant des possibles      NaN   \n",
       "4686  1359978                                             Dolors      NaN   \n",
       "\n",
       "     release_date popularity vote_average vote_count  \n",
       "94     2024-08-23     86.451          6.5          2  \n",
       "191    2024-01-27      37.15            0          0  \n",
       "229    2023-12-08     40.545          7.7          5  \n",
       "297    2024-09-21      15.28            0          0  \n",
       "308    2024-09-22     23.653            0          0  \n",
       "...           ...        ...          ...        ...  \n",
       "4666   2024-09-22        1.4            0          0  \n",
       "4671   2024-09-23        1.4            0          0  \n",
       "4675   2024-09-19        1.4            0          0  \n",
       "4685   2024-09-23        1.4            8          1  \n",
       "4686   2024-09-21        1.4            0          0  \n",
       "\n",
       "[808 rows x 7 columns]"
      ]
     },
     "execution_count": 47,
     "metadata": {},
     "output_type": "execute_result"
    }
   ],
   "source": [
    "movies[movies['overview'].isna()]"
   ]
  },
  {
   "cell_type": "code",
   "execution_count": 48,
   "id": "d6601b21",
   "metadata": {},
   "outputs": [],
   "source": [
    "movies['overview'].fillna(\"\", inplace=True)"
   ]
  },
  {
   "cell_type": "code",
   "execution_count": 49,
   "id": "a36842cf",
   "metadata": {},
   "outputs": [
    {
     "data": {
      "text/plain": [
       "id               0\n",
       "title            0\n",
       "overview         0\n",
       "release_date    33\n",
       "popularity      10\n",
       "vote_average    10\n",
       "vote_count      10\n",
       "dtype: int64"
      ]
     },
     "execution_count": 49,
     "metadata": {},
     "output_type": "execute_result"
    }
   ],
   "source": [
    "movies.isna().sum()"
   ]
  },
  {
   "cell_type": "markdown",
   "id": "b9aa2126",
   "metadata": {},
   "source": [
    "## Top Popular Movies"
   ]
  },
  {
   "cell_type": "code",
   "execution_count": 52,
   "id": "788e3b9b",
   "metadata": {
    "scrolled": true
   },
   "outputs": [
    {
     "data": {
      "text/plain": [
       "dtype('O')"
      ]
     },
     "execution_count": 52,
     "metadata": {},
     "output_type": "execute_result"
    }
   ],
   "source": [
    "movies.popularity.dtype"
   ]
  },
  {
   "cell_type": "code",
   "execution_count": 56,
   "id": "7102b975",
   "metadata": {
    "scrolled": true
   },
   "outputs": [
    {
     "data": {
      "text/plain": [
       "array(['4065.642', '1743.127', '1689.252', ..., '0.006', '0.001',\n",
       "       ' a play of the seen and not seen'], dtype=object)"
      ]
     },
     "execution_count": 56,
     "metadata": {},
     "output_type": "execute_result"
    }
   ],
   "source": [
    "movies.popularity.unique()"
   ]
  },
  {
   "cell_type": "code",
   "execution_count": 58,
   "id": "16ec72e0",
   "metadata": {
    "scrolled": true
   },
   "outputs": [
    {
     "data": {
      "text/plain": [
       "{'id': {4596: '1244588'},\n",
       " 'title': {4596: 'Is All Around'},\n",
       " 'overview': {4596: 'A pictorial sense of space presented through frames'},\n",
       " 'release_date': {4596: ' an illusion between two-dimensionality and three-dimensionality'},\n",
       " 'popularity': {4596: ' a play of the seen and not seen'},\n",
       " 'vote_average': {4596: ' a curiosity to the ‘left out’. Is All Around is an abstract impression of Zoey Benschop’s artistic process while making her 2022 work ‘Raamwerk’.'},\n",
       " 'vote_count': {4596: '2024-09-21'}}"
      ]
     },
     "execution_count": 58,
     "metadata": {},
     "output_type": "execute_result"
    }
   ],
   "source": [
    "movies[movies.popularity == ' a play of the seen and not seen'].to_dict()"
   ]
  },
  {
   "cell_type": "code",
   "execution_count": 67,
   "id": "dbcb7c91",
   "metadata": {},
   "outputs": [
    {
     "data": {
      "text/plain": [
       "4596    A pictorial sense of space presented through f...\n",
       "Name: overview, dtype: object"
      ]
     },
     "execution_count": 67,
     "metadata": {},
     "output_type": "execute_result"
    }
   ],
   "source": [
    "movies[movies.id =='1244588']['overview']"
   ]
  },
  {
   "cell_type": "code",
   "execution_count": 68,
   "id": "fdb2bb42",
   "metadata": {},
   "outputs": [],
   "source": [
    "movies[movies.id =='1244588']['overview'] = '''A pictorial sense of space presented through frames, \n",
    "an illusion between two-dimensionality and three-dimensionality, a play of the seen and not seen, a curiosity to the ‘left out’. \n",
    "Is All Around is an abstract impression of Zoey Benschop’s artistic process while making her 2022 work ‘Raamwerk’.'''"
   ]
  },
  {
   "cell_type": "code",
   "execution_count": 70,
   "id": "d8e27b2d",
   "metadata": {
    "scrolled": false
   },
   "outputs": [
    {
     "data": {
      "text/plain": [
       "{'id': {4596: '1244588'},\n",
       " 'title': {4596: 'Is All Around'},\n",
       " 'overview': {4596: 'A pictorial sense of space presented through frames, \\nan illusion between two-dimensionality and three-dimensionality, a play of the seen and not seen, a curiosity to the ‘left out’. \\nIs All Around is an abstract impression of Zoey Benschop’s artistic process while making her 2022 work ‘Raamwerk’.'},\n",
       " 'release_date': {4596: ' an illusion between two-dimensionality and three-dimensionality'},\n",
       " 'popularity': {4596: ' a play of the seen and not seen'},\n",
       " 'vote_average': {4596: ' a curiosity to the ‘left out’. Is All Around is an abstract impression of Zoey Benschop’s artistic process while making her 2022 work ‘Raamwerk’.'},\n",
       " 'vote_count': {4596: '2024-09-21'}}"
      ]
     },
     "execution_count": 70,
     "metadata": {},
     "output_type": "execute_result"
    }
   ],
   "source": [
    "movies[movies.id =='1244588'].to_dict()"
   ]
  },
  {
   "cell_type": "code",
   "execution_count": 87,
   "id": "cd7f9cf8",
   "metadata": {
    "scrolled": true
   },
   "outputs": [
    {
     "data": {
      "text/plain": [
       "4596     a play of the seen and not seen\n",
       "Name: popularity, dtype: object"
      ]
     },
     "execution_count": 87,
     "metadata": {},
     "output_type": "execute_result"
    }
   ],
   "source": [
    "movies[movies.id =='1244588']['popularity']"
   ]
  },
  {
   "cell_type": "code",
   "execution_count": 99,
   "id": "d649f8e6",
   "metadata": {},
   "outputs": [
    {
     "name": "stdout",
     "output_type": "stream",
     "text": [
      "[' a play of the seen and not seen']\n"
     ]
    }
   ],
   "source": [
    "print(movies.loc[movies['id'] == '1244588', 'popularity'].values)"
   ]
  },
  {
   "cell_type": "code",
   "execution_count": 100,
   "id": "a6117482",
   "metadata": {},
   "outputs": [],
   "source": [
    "movies.loc[\n",
    "    (movies['id'] == '1244588') & (movies['popularity'] == \" a play of the seen and not seen\"),\n",
    "    'popularity'\n",
    "] = np.nan"
   ]
  },
  {
   "cell_type": "code",
   "execution_count": 101,
   "id": "7545e5ae",
   "metadata": {},
   "outputs": [
    {
     "data": {
      "text/html": [
       "<div>\n",
       "<style scoped>\n",
       "    .dataframe tbody tr th:only-of-type {\n",
       "        vertical-align: middle;\n",
       "    }\n",
       "\n",
       "    .dataframe tbody tr th {\n",
       "        vertical-align: top;\n",
       "    }\n",
       "\n",
       "    .dataframe thead th {\n",
       "        text-align: right;\n",
       "    }\n",
       "</style>\n",
       "<table border=\"1\" class=\"dataframe\">\n",
       "  <thead>\n",
       "    <tr style=\"text-align: right;\">\n",
       "      <th></th>\n",
       "      <th>id</th>\n",
       "      <th>title</th>\n",
       "      <th>overview</th>\n",
       "      <th>release_date</th>\n",
       "      <th>popularity</th>\n",
       "      <th>vote_average</th>\n",
       "      <th>vote_count</th>\n",
       "    </tr>\n",
       "  </thead>\n",
       "  <tbody>\n",
       "    <tr>\n",
       "      <th>4596</th>\n",
       "      <td>1244588</td>\n",
       "      <td>Is All Around</td>\n",
       "      <td>A pictorial sense of space presented through f...</td>\n",
       "      <td>an illusion between two-dimensionality and th...</td>\n",
       "      <td>NaN</td>\n",
       "      <td>a curiosity to the ‘left out’. Is All Around ...</td>\n",
       "      <td>2024-09-21</td>\n",
       "    </tr>\n",
       "  </tbody>\n",
       "</table>\n",
       "</div>"
      ],
      "text/plain": [
       "           id          title  \\\n",
       "4596  1244588  Is All Around   \n",
       "\n",
       "                                               overview  \\\n",
       "4596  A pictorial sense of space presented through f...   \n",
       "\n",
       "                                           release_date popularity  \\\n",
       "4596   an illusion between two-dimensionality and th...        NaN   \n",
       "\n",
       "                                           vote_average  vote_count  \n",
       "4596   a curiosity to the ‘left out’. Is All Around ...  2024-09-21  "
      ]
     },
     "execution_count": 101,
     "metadata": {},
     "output_type": "execute_result"
    }
   ],
   "source": [
    "movies[movies.id =='1244588']"
   ]
  },
  {
   "cell_type": "code",
   "execution_count": 104,
   "id": "38b34b59",
   "metadata": {},
   "outputs": [
    {
     "data": {
      "text/plain": [
       "array([' a curiosity to the ‘left out’. Is All Around is an abstract impression of Zoey Benschop’s artistic process while making her 2022 work ‘Raamwerk’.'],\n",
       "      dtype=object)"
      ]
     },
     "execution_count": 104,
     "metadata": {},
     "output_type": "execute_result"
    }
   ],
   "source": [
    "movies[movies.id =='1244588']['vote_average'].values"
   ]
  },
  {
   "cell_type": "code",
   "execution_count": 108,
   "id": "01570692",
   "metadata": {},
   "outputs": [],
   "source": [
    "movies.loc[\n",
    "    (movies['id'] == '1244588') & (movies['vote_average'] == ''' a curiosity to the ‘left out’. \n",
    "    Is All Around is an abstract impression of Zoey Benschop’s artistic process while making her 2022 work ‘Raamwerk’.'''),\n",
    "    'vote_average'] = np.nan"
   ]
  },
  {
   "cell_type": "code",
   "execution_count": 114,
   "id": "2f28f32d",
   "metadata": {},
   "outputs": [],
   "source": [
    "movies.loc[movies['id'] =='1244588','vote_average'] = np.nan"
   ]
  },
  {
   "cell_type": "code",
   "execution_count": 115,
   "id": "06cb6580",
   "metadata": {},
   "outputs": [
    {
     "data": {
      "text/plain": [
       "4596    NaN\n",
       "Name: vote_average, dtype: object"
      ]
     },
     "execution_count": 115,
     "metadata": {},
     "output_type": "execute_result"
    }
   ],
   "source": [
    "movies.loc[movies['id'] =='1244588','vote_average']"
   ]
  },
  {
   "cell_type": "code",
   "execution_count": 116,
   "id": "b9d73240",
   "metadata": {},
   "outputs": [
    {
     "data": {
      "text/plain": [
       "{'id': {4596: '1244588'},\n",
       " 'title': {4596: 'Is All Around'},\n",
       " 'overview': {4596: 'A pictorial sense of space presented through frames, \\nan illusion between two-dimensionality and three-dimensionality, a play of the seen and not seen, a curiosity to the ‘left out’. \\nIs All Around is an abstract impression of Zoey Benschop’s artistic process while making her 2022 work ‘Raamwerk’.'},\n",
       " 'release_date': {4596: ' an illusion between two-dimensionality and three-dimensionality'},\n",
       " 'popularity': {4596: nan},\n",
       " 'vote_average': {4596: nan},\n",
       " 'vote_count': {4596: '2024-09-21'}}"
      ]
     },
     "execution_count": 116,
     "metadata": {},
     "output_type": "execute_result"
    }
   ],
   "source": [
    "movies[movies.id =='1244588'].to_dict()"
   ]
  },
  {
   "cell_type": "code",
   "execution_count": 119,
   "id": "e91ea8a6",
   "metadata": {},
   "outputs": [],
   "source": [
    "movies.loc[(movies.id =='1244588'), 'release_date'] = '2024-09-21'"
   ]
  },
  {
   "cell_type": "code",
   "execution_count": 122,
   "id": "74893b53",
   "metadata": {},
   "outputs": [],
   "source": [
    "movies.loc[(movies.id =='1244588'), 'vote_count'] = np.nan"
   ]
  },
  {
   "cell_type": "code",
   "execution_count": 123,
   "id": "b32057e9",
   "metadata": {},
   "outputs": [
    {
     "data": {
      "text/plain": [
       "{'id': {4596: '1244588'},\n",
       " 'title': {4596: 'Is All Around'},\n",
       " 'overview': {4596: 'A pictorial sense of space presented through frames, \\nan illusion between two-dimensionality and three-dimensionality, a play of the seen and not seen, a curiosity to the ‘left out’. \\nIs All Around is an abstract impression of Zoey Benschop’s artistic process while making her 2022 work ‘Raamwerk’.'},\n",
       " 'release_date': {4596: '2024-09-21'},\n",
       " 'popularity': {4596: nan},\n",
       " 'vote_average': {4596: nan},\n",
       " 'vote_count': {4596: nan}}"
      ]
     },
     "execution_count": 123,
     "metadata": {},
     "output_type": "execute_result"
    }
   ],
   "source": [
    "movies[movies.id =='1244588'].to_dict()"
   ]
  },
  {
   "cell_type": "code",
   "execution_count": 127,
   "id": "a2686cc3",
   "metadata": {
    "scrolled": true
   },
   "outputs": [
    {
     "data": {
      "text/plain": [
       "['4065.642',\n",
       " '1743.127',\n",
       " '1689.252',\n",
       " '1434.179',\n",
       " '1107.009',\n",
       " '1266.199',\n",
       " '790.983',\n",
       " '782.071',\n",
       " '752.785',\n",
       " '773.751',\n",
       " '814.208',\n",
       " '640.237',\n",
       " '794.177',\n",
       " '768.78',\n",
       " '884.199',\n",
       " '770.783',\n",
       " '660.174',\n",
       " '761.713',\n",
       " '685.708',\n",
       " '541.325',\n",
       " '655.268',\n",
       " '496.178',\n",
       " '546.316',\n",
       " '500.909',\n",
       " '521.851',\n",
       " '548.164',\n",
       " '517.109',\n",
       " '466.158',\n",
       " '537.666',\n",
       " '525.65',\n",
       " '460.661',\n",
       " '466.638',\n",
       " '351.64',\n",
       " '395.189',\n",
       " '444.023',\n",
       " '428.462',\n",
       " '351.287',\n",
       " '344.934',\n",
       " '371.659',\n",
       " '331.123',\n",
       " '322.769',\n",
       " '351.12',\n",
       " '337.745',\n",
       " '254.234',\n",
       " '324.17',\n",
       " '265.186',\n",
       " '275.311',\n",
       " '283.379',\n",
       " '264.842',\n",
       " '292.162',\n",
       " '198.343',\n",
       " '223.664',\n",
       " '188.202',\n",
       " '184.341',\n",
       " '233.185',\n",
       " '185.686',\n",
       " '204.963',\n",
       " '226.303',\n",
       " '181.877',\n",
       " '193.644',\n",
       " '208.177',\n",
       " '190.072',\n",
       " '203.382',\n",
       " '140.737',\n",
       " '201.566',\n",
       " '173.788',\n",
       " '133.576',\n",
       " '182.907',\n",
       " '149.984',\n",
       " '149.049',\n",
       " '124.062',\n",
       " '131.119',\n",
       " '149.509',\n",
       " '126.251',\n",
       " '125.831',\n",
       " '113.221',\n",
       " '156.552',\n",
       " '109.352',\n",
       " '137.888',\n",
       " '108.337',\n",
       " '114.309',\n",
       " '117.67',\n",
       " '127.092',\n",
       " '137.91',\n",
       " '95.913',\n",
       " '133.879',\n",
       " '118.058',\n",
       " '133.531',\n",
       " '85.491',\n",
       " '104.783',\n",
       " '127.83',\n",
       " '100.02',\n",
       " '85.218',\n",
       " '86.451',\n",
       " '79.029',\n",
       " '84.329',\n",
       " '86.631',\n",
       " '74.82',\n",
       " '75.244',\n",
       " '99.746',\n",
       " '99.966',\n",
       " '85.684',\n",
       " '96.956',\n",
       " '73.837',\n",
       " '85.875',\n",
       " '71.518',\n",
       " '64.585',\n",
       " '84.828',\n",
       " '94.313',\n",
       " '87.896',\n",
       " '78.626',\n",
       " '68.777',\n",
       " '79.866',\n",
       " '102.364',\n",
       " '90.1',\n",
       " '76.014',\n",
       " '63.531',\n",
       " '58.624',\n",
       " '94.511',\n",
       " '93.516',\n",
       " '76.845',\n",
       " '63.994',\n",
       " '66.073',\n",
       " '52.404',\n",
       " '60.156',\n",
       " '67.236',\n",
       " '87.091',\n",
       " '87.065',\n",
       " '83.409',\n",
       " '58.325',\n",
       " '79.006',\n",
       " '65.393',\n",
       " '84.517',\n",
       " '72.175',\n",
       " '61.435',\n",
       " '59.078',\n",
       " '68.094',\n",
       " '74.3',\n",
       " '51.41',\n",
       " '60.933',\n",
       " '79.097',\n",
       " '41.84',\n",
       " '78.844',\n",
       " '66.93',\n",
       " '60.703',\n",
       " '63.706',\n",
       " '61.258',\n",
       " '60.077',\n",
       " '47.763',\n",
       " '61.144',\n",
       " '58.425',\n",
       " '70.014',\n",
       " '51.188',\n",
       " '55.248',\n",
       " '43.257',\n",
       " '60.66',\n",
       " '46.917',\n",
       " '52.554',\n",
       " '42.405',\n",
       " '45.261',\n",
       " '45.696',\n",
       " '46.286',\n",
       " '54.563',\n",
       " '53.984',\n",
       " '50.411',\n",
       " '30.123',\n",
       " '54.168',\n",
       " '48.355',\n",
       " '38.302',\n",
       " '36.631',\n",
       " '40.743',\n",
       " '41.577',\n",
       " '40.607',\n",
       " '53.974',\n",
       " '26.353',\n",
       " '34.374',\n",
       " '40.403',\n",
       " '37.987',\n",
       " '32.256',\n",
       " '32.073',\n",
       " '44.42',\n",
       " '41.884',\n",
       " '35.716',\n",
       " '45.984',\n",
       " '38.803',\n",
       " '33.554',\n",
       " '36.435',\n",
       " '38.154',\n",
       " '35.678',\n",
       " '37.15',\n",
       " '23.885',\n",
       " '32.149',\n",
       " '29.927',\n",
       " '36.128',\n",
       " '40.763',\n",
       " '28.716',\n",
       " '30.431',\n",
       " '21.136',\n",
       " '28.939',\n",
       " '48.136',\n",
       " '20.683',\n",
       " '35.459',\n",
       " '42.54',\n",
       " '25.747',\n",
       " '42.889',\n",
       " '30.314',\n",
       " '28.876',\n",
       " '31.315',\n",
       " '29.228',\n",
       " '23.23',\n",
       " '28.629',\n",
       " '32.67',\n",
       " '33.186',\n",
       " '25.776',\n",
       " '31.443',\n",
       " '37.802',\n",
       " '30.295',\n",
       " '27.523',\n",
       " '36.664',\n",
       " '27.706',\n",
       " '30.967',\n",
       " '29.91',\n",
       " '23.288',\n",
       " '36.756',\n",
       " '43.141',\n",
       " '22.932',\n",
       " '40.545',\n",
       " '38.11',\n",
       " '29.676',\n",
       " '32.679',\n",
       " '28.265',\n",
       " '34.001',\n",
       " '30.373',\n",
       " '41.336',\n",
       " '24.636',\n",
       " '29.977',\n",
       " '25.912',\n",
       " '17.856',\n",
       " '21.789',\n",
       " '17.333',\n",
       " '17.281',\n",
       " '32.364',\n",
       " '20.048',\n",
       " '29.076',\n",
       " '18.314',\n",
       " '17.235',\n",
       " '31.517',\n",
       " '26.572',\n",
       " '29.261',\n",
       " '19.313',\n",
       " '35.28',\n",
       " '28.528',\n",
       " '16.837',\n",
       " '26.843',\n",
       " '16.81',\n",
       " '32.451',\n",
       " '28.389',\n",
       " '17.27',\n",
       " '22.861',\n",
       " '16.737',\n",
       " '16.553',\n",
       " '16.864',\n",
       " '26.052',\n",
       " '31.839',\n",
       " '38.396',\n",
       " '23.539',\n",
       " '27.385',\n",
       " '27.222',\n",
       " '22.134',\n",
       " '20.573',\n",
       " '31.885',\n",
       " '16.279',\n",
       " '16.158',\n",
       " '16.784',\n",
       " '26.23',\n",
       " '24.033',\n",
       " '37.293',\n",
       " '27.294',\n",
       " '15.788',\n",
       " '20.804',\n",
       " '27.448',\n",
       " '25.848',\n",
       " '20.97',\n",
       " '23.9',\n",
       " '23.639',\n",
       " '18.395',\n",
       " '19.984',\n",
       " '34.673',\n",
       " '21.953',\n",
       " '27.86',\n",
       " '24.135',\n",
       " '15.399',\n",
       " '27.466',\n",
       " '25.93',\n",
       " '15.28',\n",
       " '28.507',\n",
       " '24.159',\n",
       " '26.483',\n",
       " '16.055',\n",
       " '15.145',\n",
       " '28.461',\n",
       " '24.212',\n",
       " '35.025',\n",
       " '14.998',\n",
       " '22.88',\n",
       " '23.653',\n",
       " '29.495',\n",
       " '17.799',\n",
       " '26.721',\n",
       " '27.714',\n",
       " '15.648',\n",
       " '24.919',\n",
       " '23.126',\n",
       " '33.989',\n",
       " '14.491',\n",
       " '16.801',\n",
       " '21.488',\n",
       " '31.348',\n",
       " '33.718',\n",
       " '14.388',\n",
       " '19.146',\n",
       " '20.336',\n",
       " '23.062',\n",
       " '14.268',\n",
       " '14.213',\n",
       " '14.647',\n",
       " '14.812',\n",
       " '14.158',\n",
       " '22.981',\n",
       " '22.395',\n",
       " '25.433',\n",
       " '26.545',\n",
       " '26.91',\n",
       " '22.939',\n",
       " '24.651',\n",
       " '23.14',\n",
       " '23.121',\n",
       " '16.749',\n",
       " '20.735',\n",
       " '32.089',\n",
       " '13.706',\n",
       " '31.927',\n",
       " '18.485',\n",
       " '25.42',\n",
       " '13.609',\n",
       " '22.562',\n",
       " '22.716',\n",
       " '30.196',\n",
       " '22.816',\n",
       " '26.862',\n",
       " '13.414',\n",
       " '23.256',\n",
       " '20.167',\n",
       " '13.351',\n",
       " '19.697',\n",
       " '16.838',\n",
       " '22.784',\n",
       " '15.846',\n",
       " '22.453',\n",
       " '13.247',\n",
       " '14.853',\n",
       " '21.225',\n",
       " '22.958',\n",
       " '24.14',\n",
       " '25.292',\n",
       " '23.709',\n",
       " '19.248',\n",
       " '22.404',\n",
       " '22.402',\n",
       " '22.898',\n",
       " '22.893',\n",
       " '22.392',\n",
       " '21.431',\n",
       " '22.389',\n",
       " '23.136',\n",
       " '22.413',\n",
       " '17.792',\n",
       " '22.4',\n",
       " '29.925',\n",
       " '13.795',\n",
       " '23.187',\n",
       " '19.619',\n",
       " '12.894',\n",
       " '19.403',\n",
       " '22.153',\n",
       " '28.93',\n",
       " '16.865',\n",
       " '16.358',\n",
       " '16.614',\n",
       " '17.325',\n",
       " '13.378',\n",
       " '27.967',\n",
       " '17.919',\n",
       " '14.678',\n",
       " '19.231',\n",
       " '12.107',\n",
       " '14.364',\n",
       " '15.388',\n",
       " '21.868',\n",
       " '20.936',\n",
       " '17.712',\n",
       " '27.63',\n",
       " '15.35',\n",
       " '18.575',\n",
       " '11.77',\n",
       " '18.798',\n",
       " '18.507',\n",
       " '17.385',\n",
       " '21.223',\n",
       " '26.949',\n",
       " '11.485',\n",
       " '20.925',\n",
       " '12.247',\n",
       " '13.655',\n",
       " '26.354',\n",
       " '22.679',\n",
       " '26.191',\n",
       " '16.344',\n",
       " '26.181',\n",
       " '19.843',\n",
       " '26.131',\n",
       " '17.91',\n",
       " '12.524',\n",
       " '21.405',\n",
       " '25.12',\n",
       " '25.915',\n",
       " '14.476',\n",
       " '14.175',\n",
       " '18.701',\n",
       " '11.53',\n",
       " '12.362',\n",
       " '14.31',\n",
       " '25.682',\n",
       " '25.465',\n",
       " '25.329',\n",
       " '10.826',\n",
       " '11.219',\n",
       " '24.956',\n",
       " '17.175',\n",
       " '19.605',\n",
       " '10.672',\n",
       " '24.804',\n",
       " '16.554',\n",
       " '10.621',\n",
       " '24.584',\n",
       " '18.571',\n",
       " '10.364',\n",
       " '16.593',\n",
       " '16.596',\n",
       " '13.256',\n",
       " '20.565',\n",
       " '19.047',\n",
       " '23.902',\n",
       " '16.859',\n",
       " '17.506',\n",
       " '18.873',\n",
       " '17.138',\n",
       " '10.193',\n",
       " '15.312',\n",
       " '16.099',\n",
       " '11.09',\n",
       " '23.541',\n",
       " '14.089',\n",
       " '12.328',\n",
       " '15.085',\n",
       " '11.786',\n",
       " '9.984',\n",
       " '23.289',\n",
       " '20.784',\n",
       " '9.969',\n",
       " '23.226',\n",
       " '11.576',\n",
       " '16.934',\n",
       " '15.043',\n",
       " '13.419',\n",
       " '13.91',\n",
       " '23.048',\n",
       " '15.853',\n",
       " '23.006',\n",
       " '16.936',\n",
       " '9.995',\n",
       " '22.823',\n",
       " '9.776',\n",
       " '10.023',\n",
       " '22.712',\n",
       " '19.302',\n",
       " '20.297',\n",
       " '22.646',\n",
       " '21.731',\n",
       " '14.073',\n",
       " '11.999',\n",
       " '16.735',\n",
       " '18.659',\n",
       " '16.407',\n",
       " '11.952',\n",
       " '18.19',\n",
       " '11.94',\n",
       " '9.922',\n",
       " '9.504',\n",
       " '10.029',\n",
       " '9.914',\n",
       " '22.04',\n",
       " '12.85',\n",
       " '10.185',\n",
       " '12.141',\n",
       " '20.132',\n",
       " '13.598',\n",
       " '9.377',\n",
       " '17.344',\n",
       " '9.347',\n",
       " '9.338',\n",
       " '9.627',\n",
       " '9.326',\n",
       " '21.757',\n",
       " '14.849',\n",
       " '20.189',\n",
       " '14.534',\n",
       " '9.277',\n",
       " '19.756',\n",
       " '10.896',\n",
       " '13.521',\n",
       " '10.395',\n",
       " '21.384',\n",
       " '9.159',\n",
       " '21.326',\n",
       " '9.137',\n",
       " '17.785',\n",
       " '10.63',\n",
       " '9.827',\n",
       " '14.776',\n",
       " '21.231',\n",
       " '9.088',\n",
       " '21.189',\n",
       " '11.612',\n",
       " '13.294',\n",
       " '21.099',\n",
       " '21.004',\n",
       " '12.33',\n",
       " '18.624',\n",
       " '9.031',\n",
       " '20.173',\n",
       " '20.798',\n",
       " '9.263',\n",
       " '20.768',\n",
       " '14.198',\n",
       " '11.058',\n",
       " '18.12',\n",
       " '20.699',\n",
       " '20.664',\n",
       " '9.007',\n",
       " '8.845',\n",
       " '11.253',\n",
       " '20.572',\n",
       " '17.841',\n",
       " '13.697',\n",
       " '16.194',\n",
       " '9.224',\n",
       " '8.732',\n",
       " '8.764',\n",
       " '8.709',\n",
       " '15.457',\n",
       " '8.705',\n",
       " '12.604',\n",
       " '10.356',\n",
       " '8.635',\n",
       " '11.831',\n",
       " '9.408',\n",
       " '18.694',\n",
       " '17.16',\n",
       " '11.738',\n",
       " '8.672',\n",
       " '9.682',\n",
       " '9.417',\n",
       " '12.376',\n",
       " '8.912',\n",
       " '19.818',\n",
       " '13.62',\n",
       " '8.905',\n",
       " '8.451',\n",
       " '9.457',\n",
       " '14.81',\n",
       " '13.857',\n",
       " '12.706',\n",
       " '8.587',\n",
       " '8.622',\n",
       " '8.872',\n",
       " '15.891',\n",
       " '14.192',\n",
       " '16.186',\n",
       " '10.762',\n",
       " '16.679',\n",
       " '11.68',\n",
       " '8.61',\n",
       " '8.86',\n",
       " '9.115',\n",
       " '8.851',\n",
       " '16.781',\n",
       " '11.413',\n",
       " '8.592',\n",
       " '8.839',\n",
       " '8.838',\n",
       " '8.875',\n",
       " '9.794',\n",
       " '10.422',\n",
       " '12.883',\n",
       " '19.043',\n",
       " '16.831',\n",
       " '19.037',\n",
       " '11.829',\n",
       " '11.3',\n",
       " '18.956',\n",
       " '15.721',\n",
       " '8.565',\n",
       " '8.563',\n",
       " '9.813',\n",
       " '8.808',\n",
       " '8.558',\n",
       " '11.949',\n",
       " '8.547',\n",
       " '15.202',\n",
       " '15.505',\n",
       " '10.76',\n",
       " '14.99',\n",
       " '13.789',\n",
       " '15.517',\n",
       " '12.309',\n",
       " '14.195',\n",
       " '18.418',\n",
       " '8.973',\n",
       " '14.221',\n",
       " '10.652',\n",
       " '7.959',\n",
       " '8.934',\n",
       " '18.253',\n",
       " '11.44',\n",
       " '12.574',\n",
       " '7.808',\n",
       " '12.609',\n",
       " '10.977',\n",
       " '8.136',\n",
       " '10.291',\n",
       " '10.175',\n",
       " '18.087',\n",
       " '18.084',\n",
       " '10.176',\n",
       " '11.876',\n",
       " '13.639',\n",
       " '12.406',\n",
       " '13.65',\n",
       " '10.473',\n",
       " '9.997',\n",
       " '8.471',\n",
       " '14.131',\n",
       " '10.612',\n",
       " '11.158',\n",
       " '7.597',\n",
       " '17.661',\n",
       " '10.889',\n",
       " '17.612',\n",
       " '7.511',\n",
       " '8.807',\n",
       " '8.682',\n",
       " '9.631',\n",
       " '9.331',\n",
       " '17.234',\n",
       " '10.984',\n",
       " '7.333',\n",
       " '9.832',\n",
       " '14.811',\n",
       " '10.368',\n",
       " '8.816',\n",
       " '8.766',\n",
       " '16.46',\n",
       " '7.247',\n",
       " '10.812',\n",
       " '8.342',\n",
       " '16.842',\n",
       " '10.982',\n",
       " '12.001',\n",
       " '16.747',\n",
       " '13.572',\n",
       " '10.714',\n",
       " '16.695',\n",
       " '8.467',\n",
       " '11.019',\n",
       " '10.833',\n",
       " '7.865',\n",
       " '10.232',\n",
       " '8.96',\n",
       " '10.841',\n",
       " '16.534',\n",
       " '10.415',\n",
       " '14.025',\n",
       " '10.62',\n",
       " '16.412',\n",
       " '13.008',\n",
       " '15.243',\n",
       " '9.707',\n",
       " '8.885',\n",
       " '8.233',\n",
       " '6.925',\n",
       " '9.183',\n",
       " '8.428',\n",
       " '9.405',\n",
       " '10.302',\n",
       " '16.086',\n",
       " '9.388',\n",
       " '9.958',\n",
       " '8.45',\n",
       " '6.869',\n",
       " '16.019',\n",
       " '15.973',\n",
       " '15.957',\n",
       " '9.579',\n",
       " '11.726',\n",
       " '10.187',\n",
       " '9.23',\n",
       " '12.713',\n",
       " '15.876',\n",
       " '11.277',\n",
       " '13.045',\n",
       " '14.207',\n",
       " '12.027',\n",
       " '15.725',\n",
       " '6.724',\n",
       " '8.859',\n",
       " '11.951',\n",
       " '13.192',\n",
       " '11.014',\n",
       " '15.597',\n",
       " '7.55',\n",
       " '9.929',\n",
       " '15.578',\n",
       " '8.856',\n",
       " '8.206',\n",
       " '15.547',\n",
       " '6.654',\n",
       " '10.964',\n",
       " '12.084',\n",
       " '15.504',\n",
       " '11.378',\n",
       " '10.708',\n",
       " '10.555',\n",
       " '8.212',\n",
       " '8.078',\n",
       " '7.051',\n",
       " '12.985',\n",
       " '11.429',\n",
       " '10.329',\n",
       " '12.181',\n",
       " '12.893',\n",
       " '8.039',\n",
       " '15.014',\n",
       " '12.17',\n",
       " '7.787',\n",
       " '9.294',\n",
       " '14.251',\n",
       " '8.028',\n",
       " '9.811',\n",
       " '9.617',\n",
       " '11.795',\n",
       " '12.045',\n",
       " '14.76',\n",
       " '8.367',\n",
       " '12.374',\n",
       " '6.309',\n",
       " '13.32',\n",
       " '12.75',\n",
       " '14.124',\n",
       " '6.823',\n",
       " '8.559',\n",
       " '12.961',\n",
       " '10.731',\n",
       " '12.242',\n",
       " '8.752',\n",
       " '9.465',\n",
       " '11.119',\n",
       " '8.51',\n",
       " '12.759',\n",
       " '10.993',\n",
       " '6.155',\n",
       " '6.373',\n",
       " '7.69',\n",
       " '7.301',\n",
       " '7.199',\n",
       " '9.536',\n",
       " '6.06',\n",
       " '7.985',\n",
       " '6.685',\n",
       " '14.07',\n",
       " '10.728',\n",
       " '7.198',\n",
       " '10.987',\n",
       " '6.699',\n",
       " '12.194',\n",
       " '6.345',\n",
       " '13.515',\n",
       " '11.755',\n",
       " '8.988',\n",
       " '5.947',\n",
       " '13.873',\n",
       " '9.824',\n",
       " '6.903',\n",
       " '7.947',\n",
       " '11.012',\n",
       " '12.678',\n",
       " '10.578',\n",
       " '11.169',\n",
       " '13.695',\n",
       " '6.892',\n",
       " '7.481',\n",
       " '7.817',\n",
       " '13.463',\n",
       " '11.982',\n",
       " '6.634',\n",
       " '11.735',\n",
       " '8.633',\n",
       " '10.031',\n",
       " '11.594',\n",
       " '12.095',\n",
       " '5.781',\n",
       " '6.622',\n",
       " '8.291',\n",
       " '6.635',\n",
       " '5.766',\n",
       " '13.141',\n",
       " '13.416',\n",
       " '8.447',\n",
       " '9.885',\n",
       " '13.363',\n",
       " '6.853',\n",
       " '6.725',\n",
       " '7.661',\n",
       " '13.283',\n",
       " '10.573',\n",
       " '8.496',\n",
       " '12.354',\n",
       " '6.848',\n",
       " '7.089',\n",
       " '11.394',\n",
       " '7.867',\n",
       " '6.834',\n",
       " '6.865',\n",
       " '7.423',\n",
       " '7.272',\n",
       " '8.609',\n",
       " '6.58',\n",
       " '6.829',\n",
       " '7.585',\n",
       " '7.648',\n",
       " '7.995',\n",
       " '5.594',\n",
       " '7.524',\n",
       " '7.177',\n",
       " '5.555',\n",
       " '7.063',\n",
       " '9.024',\n",
       " '7.306',\n",
       " '9.299',\n",
       " '7.055',\n",
       " '11.064',\n",
       " '8.232',\n",
       " '6.55',\n",
       " '9.57',\n",
       " '6.796',\n",
       " '9.41',\n",
       " '5.858',\n",
       " '11.293',\n",
       " '11.573',\n",
       " '5.456',\n",
       " '8.564',\n",
       " '10.476',\n",
       " '12.671',\n",
       " '6.413',\n",
       " '6.777',\n",
       " '5.389',\n",
       " '6.775',\n",
       " '5.385',\n",
       " '9.78',\n",
       " '5.38',\n",
       " '7.52',\n",
       " '5.988',\n",
       " '7.723',\n",
       " '12.509',\n",
       " '5.363',\n",
       " '9.796',\n",
       " '9.869',\n",
       " '5.878',\n",
       " '6.642',\n",
       " '5.317',\n",
       " '7.932',\n",
       " '6.608',\n",
       " '8.4',\n",
       " '11.855',\n",
       " '6.062',\n",
       " '12.293',\n",
       " '6.53',\n",
       " '11.599',\n",
       " '9.368',\n",
       " '7.24',\n",
       " '8.539',\n",
       " '6.689',\n",
       " '11.794',\n",
       " '6.527',\n",
       " '6.245',\n",
       " '6.229',\n",
       " '9.854',\n",
       " '5.128',\n",
       " '8.8',\n",
       " '11.92',\n",
       " '5.083',\n",
       " '11.837',\n",
       " '7.701',\n",
       " '5.493',\n",
       " '7.56',\n",
       " '6.698',\n",
       " nan,\n",
       " '6.126',\n",
       " '5.561',\n",
       " '5.796',\n",
       " '4.996',\n",
       " '9.499',\n",
       " '4.991',\n",
       " '5.983',\n",
       " '5.836',\n",
       " '11.628',\n",
       " '9.09',\n",
       " '5.632',\n",
       " '4.985',\n",
       " '7.531',\n",
       " '4.927',\n",
       " '4.905',\n",
       " '6.281',\n",
       " '5.275',\n",
       " '4.957',\n",
       " '8.132',\n",
       " '7.014',\n",
       " '5.024',\n",
       " '8.649',\n",
       " '5.513',\n",
       " '6.479',\n",
       " '6.283',\n",
       " '4.815',\n",
       " '5.657',\n",
       " '4.968',\n",
       " '8.394',\n",
       " '4.787',\n",
       " '11.157',\n",
       " '6.35',\n",
       " '6.196',\n",
       " '6.833',\n",
       " '4.727',\n",
       " '4.72',\n",
       " '6.661',\n",
       " '4.937',\n",
       " '5.254',\n",
       " '6.934',\n",
       " '6.422',\n",
       " '7.274',\n",
       " '6.118',\n",
       " '5.191',\n",
       " '4.645',\n",
       " '6.516',\n",
       " '8.91',\n",
       " '4.637',\n",
       " '4.633',\n",
       " '10.787',\n",
       " '5.635',\n",
       " '5.484',\n",
       " '5.403',\n",
       " '5.603',\n",
       " '4.6',\n",
       " '5.206',\n",
       " '7.324',\n",
       " '5.355',\n",
       " '8.536',\n",
       " '7.344',\n",
       " '5.347',\n",
       " '8.247',\n",
       " '5.499',\n",
       " '8.286',\n",
       " '5.901',\n",
       " '7.057',\n",
       " '6.384',\n",
       " '7.129',\n",
       " '4.623',\n",
       " '4.536',\n",
       " '10.166',\n",
       " '10.543',\n",
       " '7.666',\n",
       " '7.916',\n",
       " '9.166',\n",
       " '9.416',\n",
       " '8.084',\n",
       " '5.336',\n",
       " '5.863',\n",
       " '5.365',\n",
       " '6.637',\n",
       " '7.083',\n",
       " '4.446',\n",
       " ...]"
      ]
     },
     "execution_count": 127,
     "metadata": {},
     "output_type": "execute_result"
    }
   ],
   "source": [
    "movies['popularity'].unique().tolist()"
   ]
  },
  {
   "cell_type": "code",
   "execution_count": 128,
   "id": "26e65825",
   "metadata": {
    "scrolled": true
   },
   "outputs": [
    {
     "data": {
      "text/html": [
       "<div>\n",
       "<style scoped>\n",
       "    .dataframe tbody tr th:only-of-type {\n",
       "        vertical-align: middle;\n",
       "    }\n",
       "\n",
       "    .dataframe tbody tr th {\n",
       "        vertical-align: top;\n",
       "    }\n",
       "\n",
       "    .dataframe thead th {\n",
       "        text-align: right;\n",
       "    }\n",
       "</style>\n",
       "<table border=\"1\" class=\"dataframe\">\n",
       "  <thead>\n",
       "    <tr style=\"text-align: right;\">\n",
       "      <th></th>\n",
       "      <th>id</th>\n",
       "      <th>title</th>\n",
       "      <th>overview</th>\n",
       "      <th>release_date</th>\n",
       "      <th>popularity</th>\n",
       "      <th>vote_average</th>\n",
       "      <th>vote_count</th>\n",
       "    </tr>\n",
       "  </thead>\n",
       "  <tbody>\n",
       "    <tr>\n",
       "      <th>1081</th>\n",
       "      <td>1325425</td>\n",
       "      <td>Home Free</td>\n",
       "      <td>Three estranged adult sisters return home for ...</td>\n",
       "      <td>his final wish to have one last perfect weeke...</td>\n",
       "      <td>2024-09-18</td>\n",
       "      <td>5.976</td>\n",
       "      <td>0</td>\n",
       "    </tr>\n",
       "  </tbody>\n",
       "</table>\n",
       "</div>"
      ],
      "text/plain": [
       "           id      title                                           overview  \\\n",
       "1081  1325425  Home Free  Three estranged adult sisters return home for ...   \n",
       "\n",
       "                                           release_date  popularity  \\\n",
       "1081   his final wish to have one last perfect weeke...  2024-09-18   \n",
       "\n",
       "     vote_average vote_count  \n",
       "1081        5.976          0  "
      ]
     },
     "execution_count": 128,
     "metadata": {},
     "output_type": "execute_result"
    }
   ],
   "source": [
    "movies[movies['popularity'] == '2024-09-18']"
   ]
  },
  {
   "cell_type": "code",
   "execution_count": 129,
   "id": "7c490e43",
   "metadata": {},
   "outputs": [
    {
     "data": {
      "text/plain": [
       "{'id': {1081: '1325425'},\n",
       " 'title': {1081: 'Home Free'},\n",
       " 'overview': {1081: 'Three estranged adult sisters return home for their parents anniversary to learn their father is dying'},\n",
       " 'release_date': {1081: ' his final wish to have one last perfect weekend sends everyone into a whirlwind of buried family secrets and conflict.'},\n",
       " 'popularity': {1081: '2024-09-18'},\n",
       " 'vote_average': {1081: '5.976'},\n",
       " 'vote_count': {1081: '0'}}"
      ]
     },
     "execution_count": 129,
     "metadata": {},
     "output_type": "execute_result"
    }
   ],
   "source": [
    "movies[movies['id'] == '1325425'].to_dict()"
   ]
  },
  {
   "cell_type": "code",
   "execution_count": 130,
   "id": "38d9444c",
   "metadata": {},
   "outputs": [],
   "source": [
    "movies.loc[movies['id'] == '1325425', 'overview'] = '''Three estranged adult sisters return home for their \n",
    "parents anniversary to learn their father is dying, his final wish to have one last perfect weekend sends \n",
    "everyone into a whirlwind of buried family secrets and conflict.'''"
   ]
  },
  {
   "cell_type": "code",
   "execution_count": 135,
   "id": "66ecb6ca",
   "metadata": {},
   "outputs": [],
   "source": [
    "movies.loc[movies['id'] == '1325425', 'release_date'] = '2024-09-18'"
   ]
  },
  {
   "cell_type": "code",
   "execution_count": 136,
   "id": "a443fc80",
   "metadata": {},
   "outputs": [],
   "source": [
    "movies.loc[movies['id'] == '1325425', 'popularity'] = np.nan"
   ]
  },
  {
   "cell_type": "code",
   "execution_count": 137,
   "id": "3ef21ed0",
   "metadata": {
    "scrolled": false
   },
   "outputs": [
    {
     "data": {
      "text/plain": [
       "{'id': {1081: '1325425'},\n",
       " 'title': {1081: 'Home Free'},\n",
       " 'overview': {1081: 'Three estranged adult sisters return home for their \\nparents anniversary to learn their father is dying, his final wish to have one last perfect weekend sends \\neveryone into a whirlwind of buried family secrets and conflict.'},\n",
       " 'release_date': {1081: '2024-09-18'},\n",
       " 'popularity': {1081: nan},\n",
       " 'vote_average': {1081: '5.976'},\n",
       " 'vote_count': {1081: '0'}}"
      ]
     },
     "execution_count": 137,
     "metadata": {},
     "output_type": "execute_result"
    }
   ],
   "source": [
    "movies[movies['id'] == '1325425'].to_dict()"
   ]
  },
  {
   "cell_type": "code",
   "execution_count": 144,
   "id": "2ff575dc",
   "metadata": {},
   "outputs": [
    {
     "data": {
      "text/html": [
       "<div>\n",
       "<style scoped>\n",
       "    .dataframe tbody tr th:only-of-type {\n",
       "        vertical-align: middle;\n",
       "    }\n",
       "\n",
       "    .dataframe tbody tr th {\n",
       "        vertical-align: top;\n",
       "    }\n",
       "\n",
       "    .dataframe thead th {\n",
       "        text-align: right;\n",
       "    }\n",
       "</style>\n",
       "<table border=\"1\" class=\"dataframe\">\n",
       "  <thead>\n",
       "    <tr style=\"text-align: right;\">\n",
       "      <th></th>\n",
       "      <th>id</th>\n",
       "      <th>title</th>\n",
       "      <th>overview</th>\n",
       "      <th>release_date</th>\n",
       "      <th>popularity</th>\n",
       "      <th>vote_average</th>\n",
       "      <th>vote_count</th>\n",
       "    </tr>\n",
       "  </thead>\n",
       "  <tbody>\n",
       "    <tr>\n",
       "      <th>1558</th>\n",
       "      <td>1354818</td>\n",
       "      <td>Several Successful Situations</td>\n",
       "      <td>Simultaneous &amp; Successive</td>\n",
       "      <td>I enjoy religion, I appreciate belief systems ...</td>\n",
       "      <td>2024-09-09</td>\n",
       "      <td>4.515</td>\n",
       "      <td>0</td>\n",
       "    </tr>\n",
       "    <tr>\n",
       "      <th>1561</th>\n",
       "      <td>1354818</td>\n",
       "      <td>Several Successful Situations</td>\n",
       "      <td>Simultaneous &amp; Successive</td>\n",
       "      <td>I enjoy religion, I appreciate belief systems ...</td>\n",
       "      <td>2024-09-09</td>\n",
       "      <td>3.098</td>\n",
       "      <td>0</td>\n",
       "    </tr>\n",
       "  </tbody>\n",
       "</table>\n",
       "</div>"
      ],
      "text/plain": [
       "           id                          title                    overview  \\\n",
       "1558  1354818  Several Successful Situations   Simultaneous & Successive   \n",
       "1561  1354818  Several Successful Situations   Simultaneous & Successive   \n",
       "\n",
       "                                           release_date  popularity  \\\n",
       "1558  I enjoy religion, I appreciate belief systems ...  2024-09-09   \n",
       "1561  I enjoy religion, I appreciate belief systems ...  2024-09-09   \n",
       "\n",
       "     vote_average vote_count  \n",
       "1558        4.515          0  \n",
       "1561        3.098          0  "
      ]
     },
     "execution_count": 144,
     "metadata": {},
     "output_type": "execute_result"
    }
   ],
   "source": [
    "movies[movies['popularity'] == '2024-09-09']"
   ]
  },
  {
   "cell_type": "code",
   "execution_count": 140,
   "id": "dda5af25",
   "metadata": {},
   "outputs": [
    {
     "data": {
      "text/plain": [
       "{'id': {1558: '1354818', 1561: '1354818'},\n",
       " 'title': {1558: 'Several Successful Situations',\n",
       "  1561: 'Several Successful Situations'},\n",
       " 'overview': {1558: ' Simultaneous & Successive',\n",
       "  1561: ' Simultaneous & Successive'},\n",
       " 'release_date': {1558: \"I enjoy religion, I appreciate belief systems and how they offer structure to people's lives. I also appreciate how spirituality manifests itself in Asian cultures as this almost earthbound presence guiding people through every day life and when they need an extra bit of help they need only ask whichever deity holds dominion over their desire.  Here is an experimental film I made with videos from my iPhone. Shot across Taiwan and South Korea.  An experimental film I made with videos from my iPhone. Shot across Taiwan and Korea. My aim was to explore success in how it pertains to every day life, the satisfaction of small moments, spirituality, superstition, and daily rituals.\",\n",
       "  1561: \"I enjoy religion, I appreciate belief systems and how they offer structure to people's lives. I also appreciate how spirituality manifests itself in Asian cultures as this almost earthbound presence guiding people through every day life and when they need an extra bit of help they need only ask whichever deity holds dominion over their desire.  Here is an experimental film I made with videos from my iPhone. Shot across Taiwan and South Korea.  An experimental film I made with videos from my iPhone. Shot across Taiwan and Korea. My aim was to explore success in how it pertains to every day life, the satisfaction of small moments, spirituality, superstition, and daily rituals.\"},\n",
       " 'popularity': {1558: '2024-09-09', 1561: '2024-09-09'},\n",
       " 'vote_average': {1558: '4.515', 1561: '3.098'},\n",
       " 'vote_count': {1558: '0', 1561: '0'}}"
      ]
     },
     "execution_count": 140,
     "metadata": {},
     "output_type": "execute_result"
    }
   ],
   "source": [
    "movies[movies['popularity'] == '2024-09-09'].to_dict()"
   ]
  },
  {
   "cell_type": "code",
   "execution_count": 150,
   "id": "e95f43b9",
   "metadata": {},
   "outputs": [],
   "source": [
    "movies.drop(1561, inplace=True)"
   ]
  },
  {
   "cell_type": "code",
   "execution_count": 151,
   "id": "79d9fb0e",
   "metadata": {
    "scrolled": true
   },
   "outputs": [
    {
     "data": {
      "text/html": [
       "<div>\n",
       "<style scoped>\n",
       "    .dataframe tbody tr th:only-of-type {\n",
       "        vertical-align: middle;\n",
       "    }\n",
       "\n",
       "    .dataframe tbody tr th {\n",
       "        vertical-align: top;\n",
       "    }\n",
       "\n",
       "    .dataframe thead th {\n",
       "        text-align: right;\n",
       "    }\n",
       "</style>\n",
       "<table border=\"1\" class=\"dataframe\">\n",
       "  <thead>\n",
       "    <tr style=\"text-align: right;\">\n",
       "      <th></th>\n",
       "      <th>id</th>\n",
       "      <th>title</th>\n",
       "      <th>overview</th>\n",
       "      <th>release_date</th>\n",
       "      <th>popularity</th>\n",
       "      <th>vote_average</th>\n",
       "      <th>vote_count</th>\n",
       "    </tr>\n",
       "  </thead>\n",
       "  <tbody>\n",
       "    <tr>\n",
       "      <th>1558</th>\n",
       "      <td>1354818</td>\n",
       "      <td>Several Successful Situations</td>\n",
       "      <td>Simultaneous &amp; Successive</td>\n",
       "      <td>I enjoy religion, I appreciate belief systems ...</td>\n",
       "      <td>2024-09-09</td>\n",
       "      <td>4.515</td>\n",
       "      <td>0</td>\n",
       "    </tr>\n",
       "  </tbody>\n",
       "</table>\n",
       "</div>"
      ],
      "text/plain": [
       "           id                          title                    overview  \\\n",
       "1558  1354818  Several Successful Situations   Simultaneous & Successive   \n",
       "\n",
       "                                           release_date  popularity  \\\n",
       "1558  I enjoy religion, I appreciate belief systems ...  2024-09-09   \n",
       "\n",
       "     vote_average vote_count  \n",
       "1558        4.515          0  "
      ]
     },
     "execution_count": 151,
     "metadata": {},
     "output_type": "execute_result"
    }
   ],
   "source": [
    "movies[movies['popularity'] == '2024-09-09']"
   ]
  },
  {
   "cell_type": "code",
   "execution_count": 154,
   "id": "10ee6855",
   "metadata": {},
   "outputs": [
    {
     "data": {
      "text/plain": [
       "{'id': {1558: '1354818'},\n",
       " 'title': {1558: 'Several Successful Situations'},\n",
       " 'overview': {1558: ' Simultaneous & Successive'},\n",
       " 'release_date': {1558: \"I enjoy religion, I appreciate belief systems and how they offer structure to people's lives. I also appreciate how spirituality manifests itself in Asian cultures as this almost earthbound presence guiding people through every day life and when they need an extra bit of help they need only ask whichever deity holds dominion over their desire.  Here is an experimental film I made with videos from my iPhone. Shot across Taiwan and South Korea.  An experimental film I made with videos from my iPhone. Shot across Taiwan and Korea. My aim was to explore success in how it pertains to every day life, the satisfaction of small moments, spirituality, superstition, and daily rituals.\"},\n",
       " 'popularity': {1558: '2024-09-09'},\n",
       " 'vote_average': {1558: '4.515'},\n",
       " 'vote_count': {1558: '0'}}"
      ]
     },
     "execution_count": 154,
     "metadata": {},
     "output_type": "execute_result"
    }
   ],
   "source": [
    "movies[movies['id'] == '1354818'].to_dict()"
   ]
  },
  {
   "cell_type": "code",
   "execution_count": 159,
   "id": "b55dcc8a",
   "metadata": {},
   "outputs": [],
   "source": [
    "movies.loc[1558, 'overview'] = '''Simultaneous & Successive. An experimental film I made with videos from my iPhone. \n",
    "Shot across Taiwan and Korea. My aim was to explore success in how it pertains to every day life, \n",
    "the satisfaction of small moments, spirituality, superstition, and daily rituals.'''"
   ]
  },
  {
   "cell_type": "code",
   "execution_count": 163,
   "id": "7467e70b",
   "metadata": {},
   "outputs": [],
   "source": [
    "movies.loc[1558, 'release_date'] = '2024-09-09'\n",
    "movies.loc[1558, 'popularity'] = np.nan"
   ]
  },
  {
   "cell_type": "code",
   "execution_count": 164,
   "id": "9a7e732c",
   "metadata": {},
   "outputs": [
    {
     "data": {
      "text/plain": [
       "{'id': {1558: '1354818'},\n",
       " 'title': {1558: 'Several Successful Situations'},\n",
       " 'overview': {1558: 'Simultaneous & Successive. An experimental film I made with videos from my iPhone. \\nShot across Taiwan and Korea. My aim was to explore success in how it pertains to every day life, \\nthe satisfaction of small moments, spirituality, superstition, and daily rituals.'},\n",
       " 'release_date': {1558: '2024-09-09'},\n",
       " 'popularity': {1558: nan},\n",
       " 'vote_average': {1558: '4.515'},\n",
       " 'vote_count': {1558: '0'}}"
      ]
     },
     "execution_count": 164,
     "metadata": {},
     "output_type": "execute_result"
    }
   ],
   "source": [
    "movies[movies['id'] == '1354818'].to_dict()"
   ]
  },
  {
   "cell_type": "code",
   "execution_count": 172,
   "id": "603343ab",
   "metadata": {},
   "outputs": [
    {
     "data": {
      "text/plain": [
       "{'id': {1793: '749116'},\n",
       " 'title': {1793: 'Cidade'},\n",
       " 'overview': {1793: ' Campo'},\n",
       " 'release_date': {1793: 'Two tales of migration. In the first,\\u202fafter a tailings dam disaster floods her hometown, rural worker Joana (55) moves to São Paulo\\u202fto find her sister Tania, who lives with her grandson Jaime. Joana enters the universe of insecurity, replying to an application for house cleaning. She bonds with her colleagues, and their struggle for better conditions gives Joana’s life a new meaning. Her relationship with young Jaime brings back old memories. In the second part, after the death of her estranged father, Flavia (32) moves to her farm with her wife Mara. The couple suffer a shock of reality when facing the harshness of rural life. The contact with the abandoned house reveals to Flavia unknown aspects of her father. She begins to suspect that there is something supernatural in the woods.'},\n",
       " 'popularity': {1793: '2024-08-29'},\n",
       " 'vote_average': {1793: '3.913'},\n",
       " 'vote_count': {1793: '7'}}"
      ]
     },
     "execution_count": 172,
     "metadata": {},
     "output_type": "execute_result"
    }
   ],
   "source": [
    "movies[movies['popularity']== '2024-08-29'].to_dict()"
   ]
  },
  {
   "cell_type": "code",
   "execution_count": 174,
   "id": "f2018959",
   "metadata": {},
   "outputs": [],
   "source": [
    "movies.loc[1793, 'title'] = 'Cidade; Campo'"
   ]
  },
  {
   "cell_type": "code",
   "execution_count": 175,
   "id": "14aa4301",
   "metadata": {},
   "outputs": [],
   "source": [
    "movies.loc[1793, 'overview'] = '''Two stories of migration, memories and ghosts. After a disaster floods her land, Joana flees to São Paulo and tries to start her life over again. Meanwhile, after her father's death, Flavia moves to his farm with her wife Mara.'''"
   ]
  },
  {
   "cell_type": "code",
   "execution_count": 176,
   "id": "bb4833e1",
   "metadata": {},
   "outputs": [],
   "source": [
    "movies.loc[1793, 'popularity'] = np.nan\n",
    "movies.loc[1793, 'release_date'] = '2024-08-29'"
   ]
  },
  {
   "cell_type": "code",
   "execution_count": 178,
   "id": "4596579a",
   "metadata": {},
   "outputs": [
    {
     "data": {
      "text/plain": [
       "{'id': '749116',\n",
       " 'title': 'Cidade; Campo',\n",
       " 'overview': \"Two stories of migration, memories and ghosts. After a disaster floods her land, Joana flees to São Paulo and tries to start her life over again. Meanwhile, after her father's death, Flavia moves to his farm with her wife Mara.\",\n",
       " 'release_date': '2024-08-29',\n",
       " 'popularity': nan,\n",
       " 'vote_average': '3.913',\n",
       " 'vote_count': '7'}"
      ]
     },
     "execution_count": 178,
     "metadata": {},
     "output_type": "execute_result"
    }
   ],
   "source": [
    "movies.loc[1793].to_dict()"
   ]
  },
  {
   "cell_type": "code",
   "execution_count": 193,
   "id": "8fc50d46",
   "metadata": {},
   "outputs": [],
   "source": [
    "def is_date(value):\n",
    "    try:\n",
    "        pd.to_datetime(value, errors='raise')  # Try to parse as a date\n",
    "        return True\n",
    "    except:\n",
    "        return False"
   ]
  },
  {
   "cell_type": "code",
   "execution_count": 195,
   "id": "a1fd37dc",
   "metadata": {},
   "outputs": [],
   "source": [
    "date_mask = movies['popularity'].apply(is_date)"
   ]
  },
  {
   "cell_type": "code",
   "execution_count": 198,
   "id": "5e1681c5",
   "metadata": {},
   "outputs": [
    {
     "data": {
      "text/plain": [
       "932            NaN\n",
       "933            NaN\n",
       "1081           NaN\n",
       "1558           NaN\n",
       "1793           NaN\n",
       "2073    2024-09-15\n",
       "2114           NaN\n",
       "2115           NaN\n",
       "2458    2024-09-11\n",
       "2459           NaN\n",
       "2464           NaN\n",
       "2654    2024-08-21\n",
       "2937    2024-09-10\n",
       "3372           NaN\n",
       "3374           NaN\n",
       "3881    2022-11-05\n",
       "4326           NaN\n",
       "4329           NaN\n",
       "4428    2024-08-16\n",
       "4596           NaN\n",
       "Name: popularity, dtype: object"
      ]
     },
     "execution_count": 198,
     "metadata": {},
     "output_type": "execute_result"
    }
   ],
   "source": [
    "movies[date_mask]['popularity']"
   ]
  },
  {
   "cell_type": "code",
   "execution_count": 201,
   "id": "88bdea74",
   "metadata": {},
   "outputs": [
    {
     "data": {
      "text/plain": [
       "{'id': {2073: '1357084'},\n",
       " 'title': {2073: 'Taxi Diary'},\n",
       " 'overview': {2073: 'A diary entry'},\n",
       " 'release_date': {2073: ' a moment of introspection while transitioning from one environment to the next.'},\n",
       " 'popularity': {2073: '2024-09-15'},\n",
       " 'vote_average': {2073: '2.993'},\n",
       " 'vote_count': {2073: '0'}}"
      ]
     },
     "execution_count": 201,
     "metadata": {},
     "output_type": "execute_result"
    }
   ],
   "source": [
    "movies[movies['popularity']== '2024-09-15'].to_dict()"
   ]
  },
  {
   "cell_type": "code",
   "execution_count": 203,
   "id": "bc40f1e7",
   "metadata": {},
   "outputs": [],
   "source": [
    "# The movie is not found in internet. There is a similar movie title Taxi Driver which is from 1976 or so and \n",
    "# definitely not from 2024. Thus deleting this one.\n",
    "\n",
    "movies.drop(2703, inplace=True)"
   ]
  },
  {
   "cell_type": "code",
   "execution_count": 204,
   "id": "9e79f6db",
   "metadata": {},
   "outputs": [
    {
     "data": {
      "text/plain": [
       "{'id': {2458: '1337726'},\n",
       " 'title': {2458: 'Chileans of the North'},\n",
       " 'overview': {2458: 'The story of the Chilean refugees who came to Sheffield and Rotherham in the 1970s'},\n",
       " 'release_date': {2458: ' why they came and what had happened in Chile.'},\n",
       " 'popularity': {2458: '2024-09-11'},\n",
       " 'vote_average': {2458: '2.077'},\n",
       " 'vote_count': {2458: '0'}}"
      ]
     },
     "execution_count": 204,
     "metadata": {},
     "output_type": "execute_result"
    }
   ],
   "source": [
    "movies[movies['popularity']=='2024-09-11'].to_dict()"
   ]
  },
  {
   "cell_type": "code",
   "execution_count": 206,
   "id": "ec353ece",
   "metadata": {},
   "outputs": [],
   "source": [
    "movies.loc[2458, 'overview'] = 'The story of the Chilean refugees who came to Sheffield and Rotherham in the 1970s, why they came and what had happened in Chile.'"
   ]
  },
  {
   "cell_type": "code",
   "execution_count": 209,
   "id": "570f49bb",
   "metadata": {},
   "outputs": [],
   "source": [
    "movies.loc[2458, 'popularity'] = np.nan\n",
    "movies.loc[2458, 'release_date'] = '2024-09-11'"
   ]
  },
  {
   "cell_type": "code",
   "execution_count": 211,
   "id": "96554cdc",
   "metadata": {},
   "outputs": [
    {
     "data": {
      "text/plain": [
       "{'id': {2654: '1324764'},\n",
       " 'title': {2654: 'Конец фильма'},\n",
       " 'overview': {2654: 'Slava and Katya come to the forest for a picnic. This is an important day for Slava'},\n",
       " 'release_date': {2654: ' he proposes marriage to Katya. But this fabulous walk will have an unexpected ending.'},\n",
       " 'popularity': {2654: '2024-08-21'},\n",
       " 'vote_average': {2654: '1.55'},\n",
       " 'vote_count': {2654: '0'}}"
      ]
     },
     "execution_count": 211,
     "metadata": {},
     "output_type": "execute_result"
    }
   ],
   "source": [
    "movies[movies['popularity']== '2024-08-21'].to_dict()"
   ]
  },
  {
   "cell_type": "code",
   "execution_count": 212,
   "id": "e6568f39",
   "metadata": {},
   "outputs": [],
   "source": [
    "movies.loc[2654, 'title'] = 'End of the Film (Конец фильма)'\n",
    "movies.loc[2654, 'overview'] = 'Slava and Katya come to the forest for a picnic. This is an important day for Slava; he proposes marriage to Katya. But this fabulous walk will have an unexpected ending.'\n",
    "movies.loc[2654, 'popularity'] = np.nan\n",
    "movies.loc[2654, 'release_date'] = '2024-08-21'"
   ]
  },
  {
   "cell_type": "code",
   "execution_count": 213,
   "id": "ddec82c3",
   "metadata": {},
   "outputs": [
    {
     "data": {
      "text/plain": [
       "id                                                        1324764\n",
       "title                              End of the Film (Конец фильма)\n",
       "overview        Slava and Katya come to the forest for a picni...\n",
       "release_date                                           2024-08-21\n",
       "popularity                                                    NaN\n",
       "vote_average                                                 1.55\n",
       "vote_count                                                      0\n",
       "Name: 2654, dtype: object"
      ]
     },
     "execution_count": 213,
     "metadata": {},
     "output_type": "execute_result"
    }
   ],
   "source": [
    "movies.loc[2654]"
   ]
  },
  {
   "cell_type": "code",
   "execution_count": 214,
   "id": "dd08b6c9",
   "metadata": {},
   "outputs": [
    {
     "data": {
      "text/plain": [
       "{'id': {2937: '1358591'},\n",
       " 'title': {2937: '2 Super 2 Bad'},\n",
       " 'overview': {2937: 'Young Sophomore Fogell is forced to spend his school day without his phone when he discovers the best thing in the world'},\n",
       " 'release_date': {2937: ' BEER.'},\n",
       " 'popularity': {2937: '2024-09-10'},\n",
       " 'vote_average': {2937: '2.109'},\n",
       " 'vote_count': {2937: '0'}}"
      ]
     },
     "execution_count": 214,
     "metadata": {},
     "output_type": "execute_result"
    }
   ],
   "source": [
    "movies[movies['popularity']== '2024-09-10'].to_dict()"
   ]
  },
  {
   "cell_type": "code",
   "execution_count": 215,
   "id": "84dd40a6",
   "metadata": {},
   "outputs": [],
   "source": [
    "movies.loc[2937, 'overview'] = 'Young Sophomore Fogell is forced to spend his school day without his phone when he discovers the best thing in the world; BEER.'\n",
    "movies.loc[2937, 'popularity'] = np.nan\n",
    "movies.loc[2937, 'release_date'] = '2024-09-10'"
   ]
  },
  {
   "cell_type": "code",
   "execution_count": 216,
   "id": "ac427dab",
   "metadata": {},
   "outputs": [
    {
     "data": {
      "text/plain": [
       "id                                                        1358591\n",
       "title                                               2 Super 2 Bad\n",
       "overview        Young Sophomore Fogell is forced to spend his ...\n",
       "release_date                                           2024-09-10\n",
       "popularity                                                    NaN\n",
       "vote_average                                                2.109\n",
       "vote_count                                                      0\n",
       "Name: 2937, dtype: object"
      ]
     },
     "execution_count": 216,
     "metadata": {},
     "output_type": "execute_result"
    }
   ],
   "source": [
    "movies.loc[2937]"
   ]
  },
  {
   "cell_type": "code",
   "execution_count": 219,
   "id": "bcf08d41",
   "metadata": {},
   "outputs": [
    {
     "data": {
      "text/plain": [
       "{'id': {3881: '993558'},\n",
       " 'title': {3881: 'Smalltown Boys'},\n",
       " 'overview': {3881: 'A young man seems to be dreaming of a reality different from the business he is about to take over and the married life that goes with it'},\n",
       " 'release_date': {3881: ' he is drawn to the spicy life of a queer vaudeville troupe performing in his village.'},\n",
       " 'popularity': {3881: '2022-11-05'},\n",
       " 'vote_average': {3881: '0.815'},\n",
       " 'vote_count': {3881: '5'}}"
      ]
     },
     "execution_count": 219,
     "metadata": {},
     "output_type": "execute_result"
    }
   ],
   "source": [
    "movies[movies.popularity=='2022-11-05'].to_dict()"
   ]
  },
  {
   "cell_type": "code",
   "execution_count": 223,
   "id": "e7612bc1",
   "metadata": {},
   "outputs": [],
   "source": [
    "movies.loc[3881, 'overview'] = 'A young man appears to be imagining a world distinct from the business he is set to take control of and the married life that comes with it. He gets attracted to the vibrant life of a queer vaudeville troupe performing in his village.'\n",
    "movies.loc[3881, 'popularity'] = np.nan\n",
    "movies.loc[3881, 'release_date'] = '2022-11-05'"
   ]
  },
  {
   "cell_type": "code",
   "execution_count": 225,
   "id": "3f3e2231",
   "metadata": {},
   "outputs": [
    {
     "data": {
      "text/plain": [
       "{'id': {4428: '1327929'},\n",
       " 'title': {4428: 'demarcations'},\n",
       " 'overview': {4428: ' you have black eyes (cheshmeh siya daree)'},\n",
       " 'release_date': {4428: 'Drawing its title from a song by Afghan singer Ahmad Zahir, \"you have black eyes\" is a stream-of-consciousness montage depicting collective bodies in a constant state of disruption, movement, processing, and grieving. It celebrates the body as a historical, domestic site of resistance through dance and movement including found footage of ants carrying flowers, rubab player Ustad Beltoon interrupted, and Hazara throat singing across an imaginary landscape.'},\n",
       " 'popularity': {4428: '2024-08-16'},\n",
       " 'vote_average': {4428: '0.948'},\n",
       " 'vote_count': {4428: '0'}}"
      ]
     },
     "execution_count": 225,
     "metadata": {},
     "output_type": "execute_result"
    }
   ],
   "source": [
    "movies[movies.popularity == '2024-08-16'].to_dict()"
   ]
  },
  {
   "cell_type": "code",
   "execution_count": 226,
   "id": "2b86df24",
   "metadata": {},
   "outputs": [],
   "source": [
    "movies.loc[4428, 'title'] = 'demarcations; you have black eyes (cheshmeh siya daree)'\n",
    "movies.loc[4428, 'popularity'] = np.nan\n",
    "movies.loc[4428, 'release_date'] = '2024-08-16'\n",
    "movies.loc[4428, 'overview'] = 'Drawing its title from a song by Afghan singer Ahmad Zahir, \"you have black eyes\" is a stream-of-consciousness montage depicting collective bodies in a constant state of disruption, movement, processing, and grieving. It celebrates the body as a historical, domestic site of resistance through dance and movement including found footage of ants carrying flowers, rubab player Ustad Beltoon interrupted, and Hazara throat singing across an imaginary landscape.'"
   ]
  },
  {
   "cell_type": "code",
   "execution_count": 228,
   "id": "9499a208",
   "metadata": {},
   "outputs": [
    {
     "data": {
      "text/html": [
       "<div>\n",
       "<style scoped>\n",
       "    .dataframe tbody tr th:only-of-type {\n",
       "        vertical-align: middle;\n",
       "    }\n",
       "\n",
       "    .dataframe tbody tr th {\n",
       "        vertical-align: top;\n",
       "    }\n",
       "\n",
       "    .dataframe thead th {\n",
       "        text-align: right;\n",
       "    }\n",
       "</style>\n",
       "<table border=\"1\" class=\"dataframe\">\n",
       "  <thead>\n",
       "    <tr style=\"text-align: right;\">\n",
       "      <th></th>\n",
       "      <th>id</th>\n",
       "      <th>title</th>\n",
       "      <th>overview</th>\n",
       "      <th>release_date</th>\n",
       "      <th>popularity</th>\n",
       "      <th>vote_average</th>\n",
       "      <th>vote_count</th>\n",
       "    </tr>\n",
       "  </thead>\n",
       "  <tbody>\n",
       "    <tr>\n",
       "      <th>2073</th>\n",
       "      <td>1357084</td>\n",
       "      <td>Taxi Diary</td>\n",
       "      <td>A diary entry</td>\n",
       "      <td>a moment of introspection while transitioning...</td>\n",
       "      <td>2024-09-15</td>\n",
       "      <td>2.993</td>\n",
       "      <td>0</td>\n",
       "    </tr>\n",
       "  </tbody>\n",
       "</table>\n",
       "</div>"
      ],
      "text/plain": [
       "           id       title       overview  \\\n",
       "2073  1357084  Taxi Diary  A diary entry   \n",
       "\n",
       "                                           release_date  popularity  \\\n",
       "2073   a moment of introspection while transitioning...  2024-09-15   \n",
       "\n",
       "     vote_average vote_count  \n",
       "2073        2.993          0  "
      ]
     },
     "execution_count": 228,
     "metadata": {},
     "output_type": "execute_result"
    }
   ],
   "source": [
    "movies[movies.popularity == '2024-09-15']"
   ]
  },
  {
   "cell_type": "code",
   "execution_count": 229,
   "id": "f82c2098",
   "metadata": {},
   "outputs": [],
   "source": [
    "movies.drop(2073, inplace=True)"
   ]
  },
  {
   "cell_type": "code",
   "execution_count": 230,
   "id": "17dbf9f8",
   "metadata": {},
   "outputs": [],
   "source": [
    "movies['popularity'] = movies['popularity'].astype('float')"
   ]
  },
  {
   "cell_type": "code",
   "execution_count": 231,
   "id": "030af554",
   "metadata": {},
   "outputs": [
    {
     "name": "stdout",
     "output_type": "stream",
     "text": [
      "<class 'pandas.core.frame.DataFrame'>\n",
      "Index: 4625 entries, 0 to 4703\n",
      "Data columns (total 7 columns):\n",
      " #   Column        Non-Null Count  Dtype  \n",
      "---  ------        --------------  -----  \n",
      " 0   id            4625 non-null   object \n",
      " 1   title         4625 non-null   object \n",
      " 2   overview      4625 non-null   object \n",
      " 3   release_date  4592 non-null   object \n",
      " 4   popularity    4606 non-null   float64\n",
      " 5   vote_average  4614 non-null   object \n",
      " 6   vote_count    4614 non-null   object \n",
      "dtypes: float64(1), object(6)\n",
      "memory usage: 289.1+ KB\n"
     ]
    }
   ],
   "source": [
    "movies.info()"
   ]
  },
  {
   "cell_type": "code",
   "execution_count": 234,
   "id": "9e1fca2f",
   "metadata": {},
   "outputs": [],
   "source": [
    "movies['vote_average'].fillna(0, inplace=True)\n",
    "movies['vote_count'].fillna(0, inplace=True)\n",
    "movies['vote_average'] = movies['vote_average'].astype('float')\n",
    "movies['vote_count'] = movies['vote_count'].astype('int')"
   ]
  },
  {
   "cell_type": "code",
   "execution_count": 235,
   "id": "e6d3601a",
   "metadata": {},
   "outputs": [
    {
     "name": "stdout",
     "output_type": "stream",
     "text": [
      "<class 'pandas.core.frame.DataFrame'>\n",
      "Index: 4625 entries, 0 to 4703\n",
      "Data columns (total 7 columns):\n",
      " #   Column        Non-Null Count  Dtype  \n",
      "---  ------        --------------  -----  \n",
      " 0   id            4625 non-null   object \n",
      " 1   title         4625 non-null   object \n",
      " 2   overview      4625 non-null   object \n",
      " 3   release_date  4592 non-null   object \n",
      " 4   popularity    4606 non-null   float64\n",
      " 5   vote_average  4625 non-null   float64\n",
      " 6   vote_count    4625 non-null   int32  \n",
      "dtypes: float64(2), int32(1), object(4)\n",
      "memory usage: 271.0+ KB\n"
     ]
    }
   ],
   "source": [
    "movies.info()"
   ]
  },
  {
   "cell_type": "code",
   "execution_count": 236,
   "id": "b69769c6",
   "metadata": {},
   "outputs": [],
   "source": [
    "# movies.to_csv('cleaned_latest_movies.csv')"
   ]
  },
  {
   "cell_type": "code",
   "execution_count": null,
   "id": "271c0a36",
   "metadata": {},
   "outputs": [],
   "source": []
  }
 ],
 "metadata": {
  "kernelspec": {
   "display_name": "Python 3 (ipykernel)",
   "language": "python",
   "name": "python3"
  },
  "language_info": {
   "codemirror_mode": {
    "name": "ipython",
    "version": 3
   },
   "file_extension": ".py",
   "mimetype": "text/x-python",
   "name": "python",
   "nbconvert_exporter": "python",
   "pygments_lexer": "ipython3",
   "version": "3.11.5"
  }
 },
 "nbformat": 4,
 "nbformat_minor": 5
}
